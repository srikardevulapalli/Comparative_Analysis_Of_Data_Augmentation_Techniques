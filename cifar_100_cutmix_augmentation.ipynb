{
  "cells": [
    {
      "cell_type": "code",
      "execution_count": null,
      "metadata": {
        "id": "YgqZ37mwUMdB"
      },
      "outputs": [],
      "source": []
    },
    {
      "cell_type": "markdown",
      "metadata": {
        "id": "44fXQWGvpd_b"
      },
      "source": [
        "### Importing Libraries"
      ]
    },
    {
      "cell_type": "code",
      "execution_count": null,
      "metadata": {
        "id": "1AG53RGvtWvc"
      },
      "outputs": [],
      "source": [
        "import os\n",
        "import torch\n",
        "import torchvision\n",
        "import tarfile\n",
        "import torch.nn as nn\n",
        "import numpy as np\n",
        "import torch.nn.functional as F\n",
        "from torchvision.datasets.utils import download_url\n",
        "from torchvision.datasets import ImageFolder\n",
        "from torch.utils.data import DataLoader\n",
        "from torchvision.transforms import ToTensor\n",
        "import torchvision.transforms as tt\n",
        "from torch.utils.data import random_split\n",
        "from torchvision.utils import make_grid\n",
        "import matplotlib.pyplot as plt\n",
        "import torchvision.models as models\n",
        "%matplotlib inline"
      ]
    },
    {
      "cell_type": "code",
      "execution_count": null,
      "metadata": {
        "id": "_xpPJvBam8Cs"
      },
      "outputs": [],
      "source": [
        "#Importing the libraries\n",
        "import tensorflow as tf\n",
        "from tensorflow import keras\n",
        "import numpy as np\n",
        "import pandas as pd\n",
        "from keras.layers import Dense, Conv2D, BatchNormalization, Activation\n",
        "from keras.layers import GlobalAveragePooling2D, Input, Flatten\n",
        "from keras import optimizers\n",
        "from keras.callbacks import ModelCheckpoint, LearningRateScheduler\n",
        "from keras.callbacks import ReduceLROnPlateau\n",
        "from keras.preprocessing.image import ImageDataGenerator\n",
        "from keras.regularizers import l2\n",
        "from keras import backend as K\n",
        "from keras.models import Model\n",
        "import keras\n"
      ]
    },
    {
      "cell_type": "markdown",
      "metadata": {
        "id": "CSm_zPqTqPyU"
      },
      "source": [
        "### Loading the data"
      ]
    },
    {
      "cell_type": "code",
      "execution_count": null,
      "metadata": {
        "colab": {
          "base_uri": "https://localhost:8080/"
        },
        "id": "Y7TB1FoTt6v7",
        "outputId": "58ae807a-9926-4b66-d3bd-f849eaff0f76"
      },
      "outputs": [
        {
          "name": "stdout",
          "output_type": "stream",
          "text": [
            "Using downloaded and verified file: ./cifar100.tgz\n"
          ]
        }
      ],
      "source": [
        "dataset_url = \"https://s3.amazonaws.com/fast-ai-imageclas/cifar100.tgz\"\n",
        "download_url(dataset_url, '.')"
      ]
    },
    {
      "cell_type": "code",
      "execution_count": null,
      "metadata": {
        "id": "E2zAhJn9Uout"
      },
      "outputs": [],
      "source": [
        "# Extract from archive\n",
        "with tarfile.open('./cifar100.tgz', 'r:gz') as tar:\n",
        "    tar.extractall(path='./data')"
      ]
    },
    {
      "cell_type": "code",
      "execution_count": null,
      "metadata": {
        "colab": {
          "base_uri": "https://localhost:8080/"
        },
        "id": "Lb9g71OMUxP5",
        "outputId": "0e91b6da-f3ff-4bd9-9840-89546c346168"
      },
      "outputs": [
        {
          "name": "stdout",
          "output_type": "stream",
          "text": [
            "['train', 'test']\n",
            "['large_man-made_outdoor_things', 'aquatic_mammals', 'large_carnivores', 'vehicles_1', 'fruit_and_vegetables', 'household_electrical_devices', 'vehicles_2', 'small_mammals', 'insects', 'fish', 'large_natural_outdoor_scenes', 'reptiles', 'people', 'flowers', 'medium_mammals', 'food_containers', 'non-insect_invertebrates', 'trees', 'large_omnivores_and_herbivores', 'household_furniture']\n"
          ]
        }
      ],
      "source": [
        "data_dir = './data/cifar100'\n",
        "\n",
        "print(os.listdir(data_dir))\n",
        "classes = os.listdir(data_dir + \"/train\")\n",
        "print(classes)"
      ]
    },
    {
      "cell_type": "markdown",
      "metadata": {
        "id": "zA5P8K-CprbN"
      },
      "source": [
        "### Data Exploration"
      ]
    },
    {
      "cell_type": "code",
      "execution_count": null,
      "metadata": {
        "colab": {
          "base_uri": "https://localhost:8080/"
        },
        "id": "zny8xKBlpNoX",
        "outputId": "96de0ff8-812b-49b4-92b9-02c4465166f5"
      },
      "outputs": [
        {
          "name": "stdout",
          "output_type": "stream",
          "text": [
            "No. of classes: 20\n",
            "No. of sub classes in each class: 5\n",
            "Total objects inside a subclass: 500\n",
            "TRAINING SET CONTAINS 50000 IMAGES\n"
          ]
        }
      ],
      "source": [
        "x=len(os.listdir('./data/cifar100/train'))\n",
        "print(f\"No. of classes: {x}\")\n",
        "y=len(os.listdir('./data/cifar100/train/aquatic_mammals'))\n",
        "print(f\"No. of sub classes in each class: {y}\")\n",
        "z=len(os.listdir('./data/cifar100/train/aquatic_mammals/beaver'))\n",
        "print(f\"Total objects inside a subclass: {z}\")\n",
        "\n",
        "print(f\"TRAINING SET CONTAINS {x*y*z} IMAGES\")"
      ]
    },
    {
      "cell_type": "code",
      "execution_count": null,
      "metadata": {
        "colab": {
          "base_uri": "https://localhost:8080/"
        },
        "id": "l7SgOF5fVcQL",
        "outputId": "5ed66414-f58b-4593-f669-fda2801b4268"
      },
      "outputs": [
        {
          "name": "stdout",
          "output_type": "stream",
          "text": [
            "No. of classes: 20\n",
            "No. of sub classes in each class: 5\n",
            "Total objects inside a subclass: 100\n",
            "TESTING SET CONTAINS 10000 IMAGES\n"
          ]
        }
      ],
      "source": [
        "x=len(os.listdir('./data/cifar100/test'))\n",
        "print(f\"No. of classes: {x}\")\n",
        "y=len(os.listdir('./data/cifar100/test/aquatic_mammals'))\n",
        "print(f\"No. of sub classes in each class: {y}\")\n",
        "z=len(os.listdir('./data/cifar100/test/aquatic_mammals/beaver'))\n",
        "print(f\"Total objects inside a subclass: {z}\")\n",
        "\n",
        "print(f\"TESTING SET CONTAINS {x*y*z} IMAGES\")"
      ]
    },
    {
      "cell_type": "code",
      "execution_count": null,
      "metadata": {
        "id": "TD8MLwLMVAsY"
      },
      "outputs": [],
      "source": [
        "dataset = ImageFolder(data_dir+'/train', transform=ToTensor())\n"
      ]
    },
    {
      "cell_type": "code",
      "execution_count": null,
      "metadata": {
        "id": "5FdIkKF-VjX5"
      },
      "outputs": [],
      "source": [
        "def show_example(img, label):\n",
        "    print('Label: ', dataset.classes[label], \"(\"+str(label)+\")\")\n",
        "    plt.imshow(img.permute(1, 2, 0)) #channel are at the last in matplotlib where it was at front in tensors\n"
      ]
    },
    {
      "cell_type": "code",
      "execution_count": null,
      "metadata": {
        "colab": {
          "base_uri": "https://localhost:8080/",
          "height": 283
        },
        "id": "K-Qflm-ft0bV",
        "outputId": "9d873512-f222-4329-a11f-d1f8c27cbcf0"
      },
      "outputs": [
        {
          "name": "stdout",
          "output_type": "stream",
          "text": [
            "Label:  aquatic_mammals (0)\n"
          ]
        },
        {
          "data": {
            "image/png": "[encoded data removed]",
            "text/plain": [
              "<Figure size 432x288 with 1 Axes>"
            ]
          },
          "metadata": {},
          "output_type": "display_data"
        }
      ],
      "source": [
        "#Displaying sample images\n",
        "show_example(*dataset[99]) #args use "
      ]
    },
    {
      "cell_type": "code",
      "execution_count": null,
      "metadata": {
        "id": "D5uMawPPnHLC"
      },
      "outputs": [],
      "source": [
        "# Data transforms (normalization & data augmentation)\n",
        "stats = ((0.507, 0.487, 0.441), (0.267, 0.256, 0.276))\n",
        "train_tfms = tt.Compose([tt.RandomCrop(32, padding=4, padding_mode='reflect'), \n",
        "                         tt.RandomHorizontalFlip(), \n",
        "                         tt.ToTensor(), \n",
        "                         tt.Normalize(*stats,inplace=True)])\n",
        "valid_tfms = tt.Compose([tt.ToTensor(), tt.Normalize(*stats)])"
      ]
    },
    {
      "cell_type": "markdown",
      "metadata": {
        "id": "tA6Cb9MDzALR"
      },
      "source": [
        "### Data Pre Processing"
      ]
    },
    {
      "cell_type": "code",
      "execution_count": null,
      "metadata": {
        "colab": {
          "base_uri": "https://localhost:8080/"
        },
        "id": "XwZBfOIPvuVt",
        "outputId": "b9bf4f6e-9030-4ea0-b8ac-d55abc3d5f9a"
      },
      "outputs": [
        {
          "name": "stdout",
          "output_type": "stream",
          "text": [
            "(50000, 32, 32, 3)\n",
            "(50000, 100)\n",
            "(10000, 32, 32, 3)\n",
            "(10000, 100)\n"
          ]
        }
      ],
      "source": [
        "(x_train, y_train), (x_test, y_test) = tf.keras.datasets.cifar100.load_data()\n",
        "y_train = tf.keras.utils.to_categorical(y_train, num_classes=100)\n",
        "y_test = tf.keras.utils.to_categorical(y_test, num_classes=100)\n",
        "print(x_train.shape)\n",
        "print(y_train.shape)\n",
        "print(x_test.shape)\n",
        "print(y_test.shape)\n",
        "class_names=['0: apple',\n",
        "'1: aquarium_fish',\n",
        "'2: baby',\n",
        "'3: bear',\n",
        "'4: beaver',\n",
        "'5: bed',\n",
        "'6: bee',\n",
        "'7: beetle',\n",
        "'8: bicycle',\n",
        "'9: bottle',\n",
        "'10: bowl',\n",
        "'11: boy',\n",
        "'12: bridge',\n",
        "'13: bus',\n",
        "'14: butterfly',\n",
        "'15: camel',\n",
        "'16: can',\n",
        "'17: castle',\n",
        "'18: caterpillar',\n",
        "'19: cattle',\n",
        "'20: chair',\n",
        "'21: chimpanzee',\n",
        "'22: clock',\n",
        "'23: cloud',\n",
        "'24: cockroach',\n",
        "'25: couch',\n",
        "'26: cra',\n",
        "'27: crocodile',\n",
        "'28: cup',\n",
        "'29: dinosaur',\n",
        "'30: dolphin',\n",
        "'31: elephant',\n",
        "'32: flatfish',\n",
        "'33: forest',\n",
        "'34: fox',\n",
        "'35: girl',\n",
        "'36: hamster',\n",
        "'37: house',\n",
        "'38: kangaroo',\n",
        "'39: keyboard',\n",
        "'40: lamp',\n",
        "'41: lawn_mower',\n",
        "'42: leopard',\n",
        "'43: lion',\n",
        "'44: lizard',\n",
        "'45: lobster',\n",
        "'46: man',\n",
        "'47: maple_tree',\n",
        "'48: motorcycle',\n",
        "'49: mountain',\n",
        "'50: mouse',\n",
        "'51: mushroom',\n",
        "'52: oak_tree',\n",
        "'53: orange',\n",
        "'54: orchid',\n",
        "'55: otter',\n",
        "'56: palm_tree',\n",
        "'57: pear',\n",
        "'58: pickup_truck',\n",
        "'59: pine_tree',\n",
        "'60: plain',\n",
        "'61: plate',\n",
        "'62: poppy',\n",
        "'63: porcupine',\n",
        "'64: possum',\n",
        "'65: rabbit',\n",
        "'66: raccoon',\n",
        "'67: ray',\n",
        "'68: road',\n",
        "'69: rocket',\n",
        "'70: rose',\n",
        "'71: sea',\n",
        "'72: seal',\n",
        "'73: shark',\n",
        "'74: shrew',\n",
        "'75: skunk',\n",
        "'76: skyscraper',\n",
        "'77: snail',\n",
        "'78: snake',\n",
        "'79: spider',\n",
        "'80: squirrel',\n",
        "'81: streetcar',\n",
        "'82: sunflower',\n",
        "'83: sweet_pepper',\n",
        "'84: table',\n",
        "'85: tank',\n",
        "'86: telephone',\n",
        "'87: television',\n",
        "'88: tiger',\n",
        "'89: tractor',\n",
        "'90: train',\n",
        "'91: trout',\n",
        "'92: tulip',\n",
        "'93: turtle',\n",
        "'94: wardrobe',\n",
        "'95: whale',\n",
        "'96: willow_tree',\n",
        "'97: wolf',\n",
        "'98: woman',\n",
        "'99: worm']"
      ]
    },
    {
      "cell_type": "code",
      "execution_count": null,
      "metadata": {
        "id": "8TRnNXgevg1K"
      },
      "outputs": [],
      "source": [
        "AUTO = tf.data.AUTOTUNE\n",
        "BATCH_SIZE = 32\n",
        "IMG_SIZE = 32\n",
        "\n",
        "def preprocess_image(image, label):\n",
        "    image = tf.image.resize(image, (IMG_SIZE, IMG_SIZE))\n",
        "    image = tf.image.convert_image_dtype(image, tf.float32) / 255.0\n",
        "    return image, label"
      ]
    },
    {
      "cell_type": "code",
      "execution_count": null,
      "metadata": {
        "id": "3ER4XcJkv6XW"
      },
      "outputs": [],
      "source": [
        "train_ds_one = (\n",
        "    tf.data.Dataset.from_tensor_slices((x_train, y_train))\n",
        "    .shuffle(1024)\n",
        "    .map(preprocess_image, num_parallel_calls=AUTO)\n",
        ")\n",
        "train_ds_two = (\n",
        "    tf.data.Dataset.from_tensor_slices((x_train, y_train))\n",
        "    .shuffle(1024)\n",
        "    .map(preprocess_image, num_parallel_calls=AUTO)\n",
        ")\n",
        "\n",
        "train_ds_simple = tf.data.Dataset.from_tensor_slices((x_train, y_train))\n",
        "\n",
        "test_ds = tf.data.Dataset.from_tensor_slices((x_test, y_test))\n",
        "\n",
        "train_ds_simple = (\n",
        "    train_ds_simple.map(preprocess_image, num_parallel_calls=AUTO)\n",
        "    .batch(BATCH_SIZE)\n",
        "    .prefetch(AUTO)\n",
        ")\n",
        "\n",
        "# Combine two shuffled datasets from the same training data.\n",
        "train_ds = tf.data.Dataset.zip((train_ds_one, train_ds_two))\n",
        "\n",
        "test_ds = (\n",
        "    test_ds.map(preprocess_image, num_parallel_calls=AUTO)\n",
        "    .batch(BATCH_SIZE)\n",
        "    .prefetch(AUTO)\n",
        ")"
      ]
    },
    {
      "cell_type": "code",
      "execution_count": null,
      "metadata": {
        "id": "K-y9juwhwc_-"
      },
      "outputs": [],
      "source": [
        "def sample_beta_distribution(size, concentration_0=0.2, concentration_1=0.2):\n",
        "    gamma_1_sample = tf.random.gamma(shape=[size], alpha=concentration_1)\n",
        "    gamma_2_sample = tf.random.gamma(shape=[size], alpha=concentration_0)\n",
        "    return gamma_1_sample / (gamma_1_sample + gamma_2_sample)\n",
        "\n",
        "\n",
        "@tf.function\n",
        "def get_box(lambda_value):\n",
        "    cut_rat = tf.math.sqrt(1.0 - lambda_value)\n",
        "\n",
        "    cut_w = IMG_SIZE * cut_rat  # rw\n",
        "    cut_w = tf.cast(cut_w, tf.int32)\n",
        "\n",
        "    cut_h = IMG_SIZE * cut_rat  # rh\n",
        "    cut_h = tf.cast(cut_h, tf.int32)\n",
        "\n",
        "    cut_x = tf.random.uniform((1,), minval=0, maxval=IMG_SIZE, dtype=tf.int32)  # rx\n",
        "    cut_y = tf.random.uniform((1,), minval=0, maxval=IMG_SIZE, dtype=tf.int32)  # ry\n",
        "\n",
        "    boundaryx1 = tf.clip_by_value(cut_x[0] - cut_w // 2, 0, IMG_SIZE)\n",
        "    boundaryy1 = tf.clip_by_value(cut_y[0] - cut_h // 2, 0, IMG_SIZE)\n",
        "    bbx2 = tf.clip_by_value(cut_x[0] + cut_w // 2, 0, IMG_SIZE)\n",
        "    bby2 = tf.clip_by_value(cut_y[0] + cut_h // 2, 0, IMG_SIZE)\n",
        "\n",
        "    target_h = bby2 - boundaryy1\n",
        "    if target_h == 0:\n",
        "        target_h += 1\n",
        "\n",
        "    target_w = bbx2 - boundaryx1\n",
        "    if target_w == 0:\n",
        "        target_w += 1\n",
        "\n",
        "    return boundaryx1, boundaryy1, target_h, target_w\n",
        "\n",
        "\n",
        "@tf.function\n",
        "def cutmix(train_ds_one, train_ds_two):\n",
        "    (image1, label1), (image2, label2) = train_ds_one, train_ds_two\n",
        "\n",
        "    alpha = [0.25]\n",
        "    beta = [0.25]\n",
        "\n",
        "    # Get a sample from the Beta distribution\n",
        "    lambda_value = sample_beta_distribution(1, alpha, beta)\n",
        "\n",
        "    # Define Lambda\n",
        "    lambda_value = lambda_value[0][0]\n",
        "\n",
        "    # Get the bounding box offsets, heights and widths\n",
        "    boundaryx1, boundaryy1, target_h, target_w = get_box(lambda_value)\n",
        "\n",
        "    # Get a patch from the second image (`image2`)\n",
        "    crop2 = tf.image.crop_to_bounding_box(\n",
        "        image2, boundaryy1, boundaryx1, target_h, target_w\n",
        "    )\n",
        "    # Pad the `image2` patch (`crop2`) with the same offset\n",
        "    image2 = tf.image.pad_to_bounding_box(\n",
        "        crop2, boundaryy1, boundaryx1, IMG_SIZE, IMG_SIZE\n",
        "    )\n",
        "    # Get a patch from the first image (`image1`)\n",
        "    crop1 = tf.image.crop_to_bounding_box(\n",
        "        image1, boundaryy1, boundaryx1, target_h, target_w\n",
        "    )\n",
        "    # Pad the `image1` patch (`crop1`) with the same offset\n",
        "    img1 = tf.image.pad_to_bounding_box(\n",
        "        crop1, boundaryy1, boundaryx1, IMG_SIZE, IMG_SIZE\n",
        "    )\n",
        "\n",
        "    # Modify the first image by subtracting the patch from `image1`\n",
        "    # (before applying the `image2` patch)\n",
        "    image1 = image1 - img1\n",
        "    # Add the modified `image1` and `image2`  together to get the CutMix image\n",
        "    image = image1 + image2\n",
        "\n",
        "    # Adjust Lambda in accordance to the pixel ration\n",
        "    lambda_value = 1 - (target_w * target_h) / (IMG_SIZE * IMG_SIZE)\n",
        "    lambda_value = tf.cast(lambda_value, tf.float32)\n",
        "\n",
        "    # Combine the labels of both images\n",
        "    label = lambda_value * label1 + (1 - lambda_value) * label2\n",
        "    return image, label"
      ]
    },
    {
      "cell_type": "code",
      "execution_count": null,
      "metadata": {
        "colab": {
          "base_uri": "https://localhost:8080/",
          "height": 591
        },
        "id": "FhcdlbNKfbzS",
        "outputId": "aad22317-6d26-487b-d7f4-47685cbce2fb"
      },
      "outputs": [
        {
          "data": {
            "image/png": "[encoded data removed]",
            "text/plain": [
              "<Figure size 720x720 with 9 Axes>"
            ]
          },
          "metadata": {},
          "output_type": "display_data"
        }
      ],
      "source": [
        "# Create the new dataset using our `cutmix` utility\n",
        "train_ds_cmu = (\n",
        "    train_ds.shuffle(1024)\n",
        "    .map(cutmix, num_parallel_calls=AUTO)\n",
        "    .batch(BATCH_SIZE)\n",
        "    .prefetch(AUTO)\n",
        ")\n",
        "\n",
        "# Let's preview 9 samples from the dataset\n",
        "image_batch, label_batch = next(iter(train_ds_cmu))\n",
        "plt.figure(figsize=(10, 10))\n",
        "for i in range(9):\n",
        "    ax = plt.subplot(3, 3, i + 1)\n",
        "    plt.title(class_names[np.argmax(label_batch[i])])\n",
        "    plt.imshow(image_batch[i])\n",
        "    plt.axis(\"off\")\n"
      ]
    },
    {
      "cell_type": "code",
      "execution_count": null,
      "metadata": {
        "id": "AnFAARG5wpb6"
      },
      "outputs": [],
      "source": []
    },
    {
      "cell_type": "code",
      "execution_count": null,
      "metadata": {
        "id": "8NLsIij_tErw"
      },
      "outputs": [],
      "source": [
        "def resnet_layer(\n",
        "    inputs,\n",
        "    num_filters=16,\n",
        "    kernel_size=3,\n",
        "    strides=1,\n",
        "    activation=\"relu\",\n",
        "    batch_normalization=True,\n",
        "    conv_first=True,\n",
        "):\n",
        "    conv = keras.layers.Conv2D(\n",
        "        num_filters,\n",
        "        kernel_size=kernel_size,\n",
        "        strides=strides,\n",
        "        padding=\"same\",\n",
        "        kernel_initializer=\"he_normal\",\n",
        "        kernel_regularizer=keras.regularizers.l2(1e-4),\n",
        "    )\n",
        "    x = inputs\n",
        "    if conv_first:\n",
        "        x = conv(x)\n",
        "        if batch_normalization:\n",
        "            x = keras.layers.BatchNormalization()(x)\n",
        "        if activation is not None:\n",
        "            x = keras.layers.Activation(activation)(x)\n",
        "    else:\n",
        "        if batch_normalization:\n",
        "            x = keras.layers.BatchNormalization()(x)\n",
        "        if activation is not None:\n",
        "            x = keras.layers.Activation(activation)(x)\n",
        "        x = conv(x)\n",
        "    return x\n",
        "\n",
        "\n",
        "def resnet_v20(input_shape, depth, num_classes=100):\n",
        "    if (depth - 2) % 6 != 0:\n",
        "        raise ValueError(\"depth should be 6n+2 (eg 20, 32, 44 in [a])\")\n",
        "    # Start model definition.\n",
        "    num_filters = 16\n",
        "    num_res_blocks = int((depth - 2) / 6)\n",
        "\n",
        "    inputs = keras.layers.Input(shape=input_shape)\n",
        "    x = resnet_layer(inputs=inputs)\n",
        "    # Instantiate the stack of residual units\n",
        "    for stack in range(3):\n",
        "        for res_block in range(num_res_blocks):\n",
        "            strides = 1\n",
        "            if stack > 0 and res_block == 0:  # first layer but not first stack\n",
        "                strides = 2  # downsample\n",
        "            y = resnet_layer(inputs=x, num_filters=num_filters, strides=strides)\n",
        "            y = resnet_layer(inputs=y, num_filters=num_filters, activation=None)\n",
        "            if stack > 0 and res_block == 0:  # first layer but not first stack\n",
        "                # linear projection residual shortcut connection to match\n",
        "                # changed dims\n",
        "                x = resnet_layer(\n",
        "                    inputs=x,\n",
        "                    num_filters=num_filters,\n",
        "                    kernel_size=1,\n",
        "                    strides=strides,\n",
        "                    activation=None,\n",
        "                    batch_normalization=False,\n",
        "                )\n",
        "            x = keras.layers.add([x, y])\n",
        "            x = keras.layers.Activation(\"relu\")(x)\n",
        "        num_filters *= 2\n",
        "\n",
        "    # Add classifier on top.\n",
        "    # v1 does not use BN after last shortcut connection-ReLU\n",
        "    x = keras.layers.AveragePooling2D(pool_size=8)(x)\n",
        "    y = keras.layers.Flatten()(x)\n",
        "    outputs = keras.layers.Dense(\n",
        "        num_classes, activation=\"softmax\", kernel_initializer=\"he_normal\"\n",
        "    )(y)\n",
        "\n",
        "    # Instantiate model.\n",
        "    model = keras.models.Model(inputs=inputs, outputs=outputs)\n",
        "    return model\n",
        "\n",
        "\n",
        "def training_model():\n",
        "    return resnet_v20((32, 32, 3), 20)\n",
        "\n",
        "\n",
        "initial_model = training_model()\n",
        "initial_model.save_weights(\"initial_weights.h5\") "
      ]
    },
    {
      "cell_type": "code",
      "execution_count": null,
      "metadata": {
        "colab": {
          "background_save": true,
          "base_uri": "https://localhost:8080/"
        },
        "id": "mcWd3jW2tOQ1",
        "outputId": "e6d32a39-e62b-4dd7-a076-0afe21b62cd2"
      },
      "outputs": [
        {
          "name": "stdout",
          "output_type": "stream",
          "text": [
            "Epoch 1/15\n",
            "1563/1563 [==============================] - 817s 520ms/step - loss: 4.3072 - accuracy: 0.0842 - val_loss: 3.7667 - val_accuracy: 0.1421\n",
            "Epoch 2/15\n",
            "1563/1563 [==============================] - 797s 510ms/step - loss: 3.9013 - accuracy: 0.1514 - val_loss: 3.4011 - val_accuracy: 0.2010\n",
            "Epoch 3/15\n",
            "1563/1563 [==============================] - 805s 515ms/step - loss: 3.6765 - accuracy: 0.2014 - val_loss: 3.1777 - val_accuracy: 0.2404\n",
            "Epoch 4/15\n",
            "1563/1563 [==============================] - 805s 515ms/step - loss: 3.5087 - accuracy: 0.2430 - val_loss: 2.9233 - val_accuracy: 0.3030\n",
            "Epoch 5/15\n",
            "1563/1563 [==============================] - 804s 514ms/step - loss: 3.3902 - accuracy: 0.2769 - val_loss: 2.6977 - val_accuracy: 0.3391\n",
            "Epoch 6/15\n",
            "1563/1563 [==============================] - 811s 519ms/step - loss: 3.2931 - accuracy: 0.3002 - val_loss: 2.7172 - val_accuracy: 0.3492\n",
            "Epoch 7/15\n",
            "1563/1563 [==============================] - 801s 512ms/step - loss: 3.2297 - accuracy: 0.3204 - val_loss: 2.6467 - val_accuracy: 0.3628\n",
            "Epoch 8/15\n",
            "1563/1563 [==============================] - 807s 516ms/step - loss: 3.1653 - accuracy: 0.3365 - val_loss: 2.5527 - val_accuracy: 0.3889\n",
            "Epoch 9/15\n",
            "1563/1563 [==============================] - 805s 515ms/step - loss: 3.1060 - accuracy: 0.3559 - val_loss: 2.4199 - val_accuracy: 0.4184\n",
            "Epoch 10/15\n",
            "1563/1563 [==============================] - 784s 502ms/step - loss: 3.0754 - accuracy: 0.3655 - val_loss: 2.4347 - val_accuracy: 0.4086\n",
            "Epoch 11/15\n",
            "1563/1563 [==============================] - 793s 507ms/step - loss: 3.0326 - accuracy: 0.3800 - val_loss: 2.3074 - val_accuracy: 0.4391\n",
            "Epoch 12/15\n",
            "1563/1563 [==============================] - 799s 511ms/step - loss: 3.0011 - accuracy: 0.3886 - val_loss: 2.4102 - val_accuracy: 0.4274\n",
            "Epoch 13/15\n",
            "1563/1563 [==============================] - 798s 510ms/step - loss: 2.9711 - accuracy: 0.3954 - val_loss: 2.4235 - val_accuracy: 0.4300\n",
            "Epoch 14/15\n",
            "  17/1563 [..............................] - ETA: 12:07 - loss: 3.0432 - accuracy: 0.3566"
          ]
        }
      ],
      "source": [
        "model = training_model()\n",
        "model.load_weights(\"initial_weights.h5\")\n",
        "\n",
        "model.compile(loss=\"categorical_crCut_mix_cifaossentropy\", optimizer=\"adam\", metrics=[\"accuracy\"])\n",
        "model.fit(train_ds_cmu, validation_data=test_ds, epochs=15)\n",
        "\n",
        "test_loss, test_accuracy = model.evaluate(test_ds)\n",
        "print(\"Test accuracy: {:.2f}%\".format(test_accuracy * 100))"
      ]
    }
  ],
  "metadata": {
    "colab": {
      "provenance": []
    },
    "kernelspec": {
      "display_name": "Python 3",
      "name": "python3"
    },
    "language_info": {
      "name": "python"
    }
  },
  "nbformat": 4,
  "nbformat_minor": 0
}