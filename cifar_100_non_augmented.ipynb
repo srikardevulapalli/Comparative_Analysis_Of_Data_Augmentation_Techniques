{
  "cells": [
    {
      "cell_type": "code",
      "execution_count": null,
      "metadata": {
        "id": "2dMvPGBqy43Q"
      },
      "outputs": [],
      "source": []
    },
    {
      "cell_type": "code",
      "execution_count": null,
      "metadata": {
        "id": "YgqZ37mwUMdB"
      },
      "outputs": [],
      "source": []
    },
    {
      "cell_type": "markdown",
      "metadata": {
        "id": "44fXQWGvpd_b"
      },
      "source": [
        "### Importing Libraries"
      ]
    },
    {
      "cell_type": "code",
      "execution_count": null,
      "metadata": {
        "id": "1AG53RGvtWvc"
      },
      "outputs": [],
      "source": [
        "import os\n",
        "import torch\n",
        "import torchvision\n",
        "import tarfile\n",
        "import torch.nn as nn\n",
        "import numpy as np\n",
        "import torch.nn.functional as F\n",
        "from torchvision.datasets.utils import download_url\n",
        "from torchvision.datasets import ImageFolder\n",
        "from torch.utils.data import DataLoader\n",
        "from torchvision.transforms import ToTensor\n",
        "import torchvision.transforms as tt\n",
        "from torch.utils.data import random_split\n",
        "from torchvision.utils import make_grid\n",
        "import matplotlib.pyplot as plt\n",
        "import torchvision.models as models\n",
        "%matplotlib inline"
      ]
    },
    {
      "cell_type": "code",
      "execution_count": null,
      "metadata": {
        "id": "_xpPJvBam8Cs"
      },
      "outputs": [],
      "source": [
        "#Importing the libraries\n",
        "import tensorflow as tf\n",
        "from tensorflow import keras\n",
        "import numpy as np\n",
        "import pandas as pd\n",
        "from keras.layers import Dense, Conv2D, BatchNormalization, Activation\n",
        "from keras.layers import GlobalAveragePooling2D, Input, Flatten\n",
        "from keras import optimizers\n",
        "from keras.callbacks import ModelCheckpoint, LearningRateScheduler\n",
        "from keras.callbacks import ReduceLROnPlateau\n",
        "from keras.preprocessing.image import ImageDataGenerator\n",
        "from keras.regularizers import l2\n",
        "from keras import backend as K\n",
        "from keras.models import Model\n",
        "import keras\n"
      ]
    },
    {
      "cell_type": "markdown",
      "metadata": {
        "id": "CSm_zPqTqPyU"
      },
      "source": [
        "### Loading the data"
      ]
    },
    {
      "cell_type": "code",
      "execution_count": null,
      "metadata": {
        "colab": {
          "base_uri": "https://localhost:8080/",
          "height": 66,
          "referenced_widgets": [
            "958fc49dec4549faadc49dc40b112f76",
            "88083de136404781a528a03456bfc5e0",
            "78b05afc5eff4000a5236c41ee3913ad",
            "b203ec97f21f44f2be7cca3cc60c2fd7",
            "196b093241d1411db5e4439996a6b99e",
            "a2a87630b22a4113b42cb79b3026b19f",
            "3f43ff0bea264c968d71626b55908f5b",
            "dfdd32d70c9b4f03ae83780e2a363595",
            "3d18f083f0d44609b0392a40498d284e",
            "79f378d881314c338395cbae7cf6da4a",
            "a79af3e5d4d74832ae451301710ab477"
          ]
        },
        "id": "Y7TB1FoTt6v7",
        "outputId": "c4e53492-46d9-4aeb-ed63-bdb089945499"
      },
      "outputs": [
        {
          "name": "stdout",
          "output_type": "stream",
          "text": [
            "Downloading https://s3.amazonaws.com/fast-ai-imageclas/cifar100.tgz to ./cifar100.tgz\n"
          ]
        },
        {
          "data": {
            "application/vnd.jupyter.widget-view+json": {
              "model_id": "958fc49dec4549faadc49dc40b112f76",
              "version_major": 2,
              "version_minor": 0
            },
            "text/plain": [
              "  0%|          | 0/169168619 [00:00<?, ?it/s]"
            ]
          },
          "metadata": {},
          "output_type": "display_data"
        }
      ],
      "source": [
        "dataset_url = \"https://s3.amazonaws.com/fast-ai-imageclas/cifar100.tgz\"\n",
        "download_url(dataset_url, '.')"
      ]
    },
    {
      "cell_type": "code",
      "execution_count": null,
      "metadata": {
        "id": "E2zAhJn9Uout"
      },
      "outputs": [],
      "source": [
        "# Extract from archive\n",
        "with tarfile.open('./cifar100.tgz', 'r:gz') as tar:\n",
        "    tar.extractall(path='./data')"
      ]
    },
    {
      "cell_type": "code",
      "execution_count": null,
      "metadata": {
        "colab": {
          "base_uri": "https://localhost:8080/"
        },
        "id": "Lb9g71OMUxP5",
        "outputId": "db278190-1b3b-4d83-a803-bbfb4bc48b92"
      },
      "outputs": [
        {
          "name": "stdout",
          "output_type": "stream",
          "text": [
            "['train', 'test']\n",
            "['large_man-made_outdoor_things', 'aquatic_mammals', 'large_carnivores', 'vehicles_1', 'fruit_and_vegetables', 'household_electrical_devices', 'vehicles_2', 'small_mammals', 'insects', 'fish', 'large_natural_outdoor_scenes', 'reptiles', 'people', 'flowers', 'medium_mammals', 'food_containers', 'non-insect_invertebrates', 'trees', 'large_omnivores_and_herbivores', 'household_furniture']\n"
          ]
        }
      ],
      "source": [
        "data_dir = './data/cifar100'\n",
        "\n",
        "print(os.listdir(data_dir))\n",
        "classes = os.listdir(data_dir + \"/train\")\n",
        "print(classes)"
      ]
    },
    {
      "cell_type": "markdown",
      "metadata": {
        "id": "zA5P8K-CprbN"
      },
      "source": [
        "### Data Exploration"
      ]
    },
    {
      "cell_type": "code",
      "execution_count": null,
      "metadata": {
        "colab": {
          "base_uri": "https://localhost:8080/"
        },
        "id": "zny8xKBlpNoX",
        "outputId": "4f43a8fc-13b4-437f-894a-e41c4d7881f5"
      },
      "outputs": [
        {
          "name": "stdout",
          "output_type": "stream",
          "text": [
            "No. of classes: 20\n",
            "No. of sub classes in each class: 5\n",
            "Total objects inside a subclass: 500\n",
            "TRAINING SET CONTAINS 50000 IMAGES\n"
          ]
        }
      ],
      "source": [
        "x=len(os.listdir('./data/cifar100/train'))\n",
        "print(f\"No. of classes: {x}\")\n",
        "y=len(os.listdir('./data/cifar100/train/aquatic_mammals'))\n",
        "print(f\"No. of sub classes in each class: {y}\")\n",
        "z=len(os.listdir('./data/cifar100/train/aquatic_mammals/beaver'))\n",
        "print(f\"Total objects inside a subclass: {z}\")\n",
        "\n",
        "print(f\"TRAINING SET CONTAINS {x*y*z} IMAGES\")"
      ]
    },
    {
      "cell_type": "code",
      "execution_count": null,
      "metadata": {
        "colab": {
          "base_uri": "https://localhost:8080/"
        },
        "id": "l7SgOF5fVcQL",
        "outputId": "d87556de-44df-4fe2-c261-6763d264aa07"
      },
      "outputs": [
        {
          "name": "stdout",
          "output_type": "stream",
          "text": [
            "No. of classes: 20\n",
            "No. of sub classes in each class: 5\n",
            "Total objects inside a subclass: 100\n",
            "TESTING SET CONTAINS 10000 IMAGES\n"
          ]
        }
      ],
      "source": [
        "x=len(os.listdir('./data/cifar100/test'))\n",
        "print(f\"No. of classes: {x}\")\n",
        "y=len(os.listdir('./data/cifar100/test/aquatic_mammals'))\n",
        "print(f\"No. of sub classes in each class: {y}\")\n",
        "z=len(os.listdir('./data/cifar100/test/aquatic_mammals/beaver'))\n",
        "print(f\"Total objects inside a subclass: {z}\")\n",
        "\n",
        "print(f\"TESTING SET CONTAINS {x*y*z} IMAGES\")"
      ]
    },
    {
      "cell_type": "code",
      "execution_count": null,
      "metadata": {
        "id": "TD8MLwLMVAsY"
      },
      "outputs": [],
      "source": [
        "dataset = ImageFolder(data_dir+'/train', transform=ToTensor())"
      ]
    },
    {
      "cell_type": "code",
      "execution_count": null,
      "metadata": {
        "id": "5FdIkKF-VjX5"
      },
      "outputs": [],
      "source": [
        "def show_example(img, label):\n",
        "    print('Label: ', dataset.classes[label], \"(\"+str(label)+\")\")\n",
        "    plt.imshow(img.permute(1, 2, 0)) #channel are at the last in matplotlib where it was at front in tensors"
      ]
    },
    {
      "cell_type": "code",
      "execution_count": null,
      "metadata": {
        "colab": {
          "base_uri": "https://localhost:8080/",
          "height": 283
        },
        "id": "K-Qflm-ft0bV",
        "outputId": "88e82f40-c1d5-4092-e2c0-08c8d9f90526"
      },
      "outputs": [
        {
          "name": "stdout",
          "output_type": "stream",
          "text": [
            "Label:  aquatic_mammals (0)\n"
          ]
        },
        {
          "data": {
            "image/png": "[encoded data removed]",
            "text/plain": [
              "<Figure size 432x288 with 1 Axes>"
            ]
          },
          "metadata": {},
          "output_type": "display_data"
        }
      ],
      "source": [
        "#Displaying sample images\n",
        "show_example(*dataset[99]) #args use "
      ]
    },
    {
      "cell_type": "code",
      "execution_count": null,
      "metadata": {
        "id": "D5uMawPPnHLC"
      },
      "outputs": [],
      "source": [
        "# Data transforms (normalization & data augmentation)\n",
        "stats = ((0.507, 0.487, 0.441), (0.267, 0.256, 0.276))\n",
        "train_tfms = tt.Compose([tt.RandomCrop(32, padding=4, padding_mode='reflect'), \n",
        "                         tt.RandomHorizontalFlip(), \n",
        "                         tt.ToTensor(), \n",
        "                         tt.Normalize(*stats,inplace=True)])\n",
        "valid_tfms = tt.Compose([tt.ToTensor(), tt.Normalize(*stats)])"
      ]
    },
    {
      "cell_type": "markdown",
      "metadata": {
        "id": "tA6Cb9MDzALR"
      },
      "source": [
        "### Data Pre Processing"
      ]
    },
    {
      "cell_type": "code",
      "execution_count": null,
      "metadata": {
        "colab": {
          "base_uri": "https://localhost:8080/"
        },
        "id": "XwZBfOIPvuVt",
        "outputId": "7f67d598-ee30-4a64-f206-0d33270ece5e"
      },
      "outputs": [
        {
          "name": "stdout",
          "output_type": "stream",
          "text": [
            "Downloading data from https://www.cs.toronto.edu/~kriz/cifar-100-python.tar.gz\n",
            "169001437/169001437 [==============================] - 2s 0us/step\n",
            "(50000, 32, 32, 3)\n",
            "(50000, 100)\n",
            "(10000, 32, 32, 3)\n",
            "(10000, 100)\n"
          ]
        }
      ],
      "source": [
        "(x_train, y_train), (x_test, y_test) = tf.keras.datasets.cifar100.load_data()\n",
        "y_train = tf.keras.utils.to_categorical(y_train, num_classes=100)\n",
        "y_test = tf.keras.utils.to_categorical(y_test, num_classes=100)\n",
        "print(x_train.shape)\n",
        "print(y_train.shape)\n",
        "print(x_test.shape)\n",
        "print(y_test.shape)\n",
        "class_names=['0: apple',\n",
        "'1: aquarium_fish',\n",
        "'2: baby',\n",
        "'3: bear',\n",
        "'4: beaver',\n",
        "'5: bed',\n",
        "'6: bee',\n",
        "'7: beetle',\n",
        "'8: bicycle',\n",
        "'9: bottle',\n",
        "'10: bowl',\n",
        "'11: boy',\n",
        "'12: bridge',\n",
        "'13: bus',\n",
        "'14: butterfly',\n",
        "'15: camel',\n",
        "'16: can',\n",
        "'17: castle',\n",
        "'18: caterpillar',\n",
        "'19: cattle',\n",
        "'20: chair',\n",
        "'21: chimpanzee',\n",
        "'22: clock',\n",
        "'23: cloud',\n",
        "'24: cockroach',\n",
        "'25: couch',\n",
        "'26: cra',\n",
        "'27: crocodile',\n",
        "'28: cup',\n",
        "'29: dinosaur',\n",
        "'30: dolphin',\n",
        "'31: elephant',\n",
        "'32: flatfish',\n",
        "'33: forest',\n",
        "'34: fox',\n",
        "'35: girl',\n",
        "'36: hamster',\n",
        "'37: house',\n",
        "'38: kangaroo',\n",
        "'39: keyboard',\n",
        "'40: lamp',\n",
        "'41: lawn_mower',\n",
        "'42: leopard',\n",
        "'43: lion',\n",
        "'44: lizard',\n",
        "'45: lobster',\n",
        "'46: man',\n",
        "'47: maple_tree',\n",
        "'48: motorcycle',\n",
        "'49: mountain',\n",
        "'50: mouse',\n",
        "'51: mushroom',\n",
        "'52: oak_tree',\n",
        "'53: orange',\n",
        "'54: orchid',\n",
        "'55: otter',\n",
        "'56: palm_tree',\n",
        "'57: pear',\n",
        "'58: pickup_truck',\n",
        "'59: pine_tree',\n",
        "'60: plain',\n",
        "'61: plate',\n",
        "'62: poppy',\n",
        "'63: porcupine',\n",
        "'64: possum',\n",
        "'65: rabbit',\n",
        "'66: raccoon',\n",
        "'67: ray',\n",
        "'68: road',\n",
        "'69: rocket',\n",
        "'70: rose',\n",
        "'71: sea',\n",
        "'72: seal',\n",
        "'73: shark',\n",
        "'74: shrew',\n",
        "'75: skunk',\n",
        "'76: skyscraper',\n",
        "'77: snail',\n",
        "'78: snake',\n",
        "'79: spider',\n",
        "'80: squirrel',\n",
        "'81: streetcar',\n",
        "'82: sunflower',\n",
        "'83: sweet_pepper',\n",
        "'84: table',\n",
        "'85: tank',\n",
        "'86: telephone',\n",
        "'87: television',\n",
        "'88: tiger',\n",
        "'89: tractor',\n",
        "'90: train',\n",
        "'91: trout',\n",
        "'92: tulip',\n",
        "'93: turtle',\n",
        "'94: wardrobe',\n",
        "'95: whale',\n",
        "'96: willow_tree',\n",
        "'97: wolf',\n",
        "'98: woman',\n",
        "'99: worm']"
      ]
    },
    {
      "cell_type": "code",
      "execution_count": null,
      "metadata": {
        "id": "8TRnNXgevg1K"
      },
      "outputs": [],
      "source": [
        "AUTO = tf.data.AUTOTUNE\n",
        "BATCH_SIZE = 32\n",
        "IMG_SIZE = 32\n",
        "\n",
        "def preprocess_image(image, label):\n",
        "    image = tf.image.resize(image, (IMG_SIZE, IMG_SIZE))\n",
        "    image = tf.image.convert_image_dtype(image, tf.float32) / 255.0\n",
        "    return image, label"
      ]
    },
    {
      "cell_type": "code",
      "execution_count": null,
      "metadata": {
        "id": "3ER4XcJkv6XW"
      },
      "outputs": [],
      "source": [
        "train_ds_simple = tf.data.Dataset.from_tensor_slices((x_train, y_train))\n",
        "test_ds = tf.data.Dataset.from_tensor_slices((x_test, y_test))\n",
        "\n",
        "train_ds_simple = (\n",
        "    train_ds_simple.map(preprocess_image, num_parallel_calls=AUTO)\n",
        "    .batch(BATCH_SIZE)\n",
        "    .prefetch(AUTO)\n",
        ")\n",
        "\n",
        "# Combine two shuffled datasets from the same training data.\n",
        "test_ds = (\n",
        "    test_ds.map(preprocess_image, num_parallel_calls=AUTO)\n",
        "    .batch(BATCH_SIZE)\n",
        "    .prefetch(AUTO)\n",
        ")"
      ]
    },
    {
      "cell_type": "code",
      "execution_count": null,
      "metadata": {
        "colab": {
          "base_uri": "https://localhost:8080/",
          "height": 591
        },
        "id": "FhcdlbNKfbzS",
        "outputId": "8cc64921-bbac-4e17-c9b5-3db55b24806e"
      },
      "outputs": [
        {
          "data": {
            "image/png": "[encoded data removed]",
            "text/plain": [
              "<Figure size 720x720 with 9 Axes>"
            ]
          },
          "metadata": {},
          "output_type": "display_data"
        }
      ],
      "source": [
        "\n",
        "# Let's preview 9 samples from the dataset\n",
        "image_batch, label_batch = next(iter(train_ds_simple))\n",
        "plt.figure(figsize=(10, 10))\n",
        "for i in range(9):\n",
        "    ax = plt.subplot(3, 3, i + 1)\n",
        "    plt.title(class_names[np.argmax(label_batch[i])])\n",
        "    plt.imshow(image_batch[i])\n",
        "    plt.axis(\"off\")\n"
      ]
    },
    {
      "cell_type": "code",
      "execution_count": null,
      "metadata": {
        "id": "AnFAARG5wpb6"
      },
      "outputs": [],
      "source": []
    },
    {
      "cell_type": "code",
      "execution_count": null,
      "metadata": {
        "id": "8NLsIij_tErw"
      },
      "outputs": [],
      "source": [
        "def resnet_layer(\n",
        "    inputs,\n",
        "    num_filters=16,\n",
        "    kernel_size=3,\n",
        "    strides=1,\n",
        "    activation=\"relu\",\n",
        "    batch_normalization=True,\n",
        "    conv_first=True,\n",
        "):\n",
        "    conv = keras.layers.Conv2D(\n",
        "        num_filters,\n",
        "        kernel_size=kernel_size,\n",
        "        strides=strides,\n",
        "        padding=\"same\",\n",
        "        kernel_initializer=\"he_normal\",\n",
        "        kernel_regularizer=keras.regularizers.l2(1e-4),\n",
        "    )\n",
        "    x = inputs\n",
        "    if conv_first:\n",
        "        x = conv(x)\n",
        "        if batch_normalization:\n",
        "            x = keras.layers.BatchNormalization()(x)\n",
        "        if activation is not None:\n",
        "            x = keras.layers.Activation(activation)(x)\n",
        "    else:\n",
        "        if batch_normalization:\n",
        "            x = keras.layers.BatchNormalization()(x)\n",
        "        if activation is not None:\n",
        "            x = keras.layers.Activation(activation)(x)\n",
        "        x = conv(x)\n",
        "    return x\n",
        "\n",
        "\n",
        "def resnet_v20(input_shape, depth, num_classes=100):\n",
        "    if (depth - 2) % 6 != 0:\n",
        "        raise ValueError(\"depth should be 6n+2 (eg 20, 32, 44 in [a])\")\n",
        "    # Start model definition.\n",
        "    num_filters = 16\n",
        "    num_res_blocks = int((depth - 2) / 6)\n",
        "\n",
        "    inputs = keras.layers.Input(shape=input_shape)\n",
        "    x = resnet_layer(inputs=inputs)\n",
        "    # Instantiate the stack of residual units\n",
        "    for stack in range(3):\n",
        "        for res_block in range(num_res_blocks):\n",
        "            strides = 1\n",
        "            if stack > 0 and res_block == 0:  # first layer but not first stack\n",
        "                strides = 2  # downsample\n",
        "            y = resnet_layer(inputs=x, num_filters=num_filters, strides=strides)\n",
        "            y = resnet_layer(inputs=y, num_filters=num_filters, activation=None)\n",
        "            if stack > 0 and res_block == 0:  # first layer but not first stack\n",
        "                # linear projection residual shortcut connection to match\n",
        "                # changed dims\n",
        "                x = resnet_layer(\n",
        "                    inputs=x,\n",
        "                    num_filters=num_filters,\n",
        "                    kernel_size=1,\n",
        "                    strides=strides,\n",
        "                    activation=None,\n",
        "                    batch_normalization=False,\n",
        "                )\n",
        "            x = keras.layers.add([x, y])\n",
        "            x = keras.layers.Activation(\"relu\")(x)\n",
        "        num_filters *= 2\n",
        "\n",
        "    # Add classifier on top.\n",
        "    # v1 does not use BN after last shortcut connection-ReLU\n",
        "    x = keras.layers.AveragePooling2D(pool_size=8)(x)\n",
        "    y = keras.layers.Flatten()(x)\n",
        "    outputs = keras.layers.Dense(\n",
        "        num_classes, activation=\"softmax\", kernel_initializer=\"he_normal\"\n",
        "    )(y)\n",
        "\n",
        "    # Instantiate model.\n",
        "    model = keras.models.Model(inputs=inputs, outputs=outputs)\n",
        "    return model\n",
        "\n",
        "\n",
        "def training_model():\n",
        "    return resnet_v20((32, 32, 3), 20)\n",
        "\n",
        "\n",
        "initial_model = training_model()\n",
        "initial_model.save_weights(\"initial_weights.h5\") "
      ]
    },
    {
      "cell_type": "code",
      "execution_count": null,
      "metadata": {
        "colab": {
          "background_save": true,
          "base_uri": "https://localhost:8080/"
        },
        "id": "mcWd3jW2tOQ1",
        "outputId": "438f90b4-445c-4708-e1ce-77e983c47b04"
      },
      "outputs": [
        {
          "name": "stdout",
          "output_type": "stream",
          "text": [
            "Epoch 1/15\n",
            "1563/1563 [==============================] - 833s 530ms/step - loss: 3.9073 - accuracy: 0.1256 - val_loss: 3.6065 - val_accuracy: 0.1766\n",
            "Epoch 2/15\n",
            "1563/1563 [==============================] - 814s 521ms/step - loss: 3.1896 - accuracy: 0.2432 - val_loss: 3.1254 - val_accuracy: 0.2606\n",
            "Epoch 3/15\n",
            "1563/1563 [==============================] - 817s 523ms/step - loss: 2.8045 - accuracy: 0.3196 - val_loss: 2.9618 - val_accuracy: 0.2963\n",
            "Epoch 4/15\n",
            "1563/1563 [==============================] - 821s 525ms/step - loss: 2.5430 - accuracy: 0.3789 - val_loss: 2.7631 - val_accuracy: 0.3376\n",
            "Epoch 5/15\n",
            "1563/1563 [==============================] - 820s 525ms/step - loss: 2.3506 - accuracy: 0.4267 - val_loss: 2.6913 - val_accuracy: 0.3655\n",
            "Epoch 6/15\n",
            "1563/1563 [==============================] - 818s 524ms/step - loss: 2.2000 - accuracy: 0.4673 - val_loss: 2.6538 - val_accuracy: 0.3815\n",
            "Epoch 7/15\n",
            "1563/1563 [==============================] - 817s 523ms/step - loss: 2.0734 - accuracy: 0.4999 - val_loss: 2.7818 - val_accuracy: 0.3669\n",
            "Epoch 8/15\n",
            "1563/1563 [==============================] - 815s 521ms/step - loss: 1.9619 - accuracy: 0.5313 - val_loss: 2.8441 - val_accuracy: 0.3659\n",
            "Epoch 9/15\n",
            "1563/1563 [==============================] - 791s 506ms/step - loss: 1.8674 - accuracy: 0.5576 - val_loss: 2.8750 - val_accuracy: 0.3741\n",
            "Epoch 10/15\n",
            "1563/1563 [==============================] - 799s 511ms/step - loss: 1.7835 - accuracy: 0.5819 - val_loss: 2.9678 - val_accuracy: 0.3813\n",
            "Epoch 11/15\n",
            "1563/1563 [==============================] - 801s 513ms/step - loss: 1.7051 - accuracy: 0.6031 - val_loss: 2.9675 - val_accuracy: 0.3864\n",
            "Epoch 12/15\n",
            "1563/1563 [==============================] - 807s 516ms/step - loss: 1.6412 - accuracy: 0.6222 - val_loss: 3.2120 - val_accuracy: 0.3711\n",
            "Epoch 13/15\n",
            "1563/1563 [==============================] - ETA: 0s - loss: 1.5789 - accuracy: 0.6407"
          ]
        }
      ],
      "source": [
        "model = training_model()\n",
        "model.load_weights(\"initial_weights.h5\")\n",
        "\n",
        "model.compile(loss=\"categorical_crossentropy\", optimizer=\"adam\", metrics=[\"accuracy\"])\n",
        "model.fit(train_ds_simple, validation_data=test_ds, epochs=15)\n",
        "\n",
        "test_loss, test_accuracy = model.evaluate(test_ds)\n",
        "print(\"Test accuracy: {:.2f}%\".format(test_accuracy * 100))"
      ]
    }
  ],
  "metadata": {
    "colab": {
      "provenance": []
    },
    "kernelspec": {
      "display_name": "Python 3",
      "name": "python3"
    },
    "language_info": {
      "name": "python"
    },
    "widgets": {
      "application/vnd.jupyter.widget-state+json": {
        "196b093241d1411db5e4439996a6b99e": {
          "model_module": "@jupyter-widgets/base",
          "model_module_version": "1.2.0",
          "model_name": "LayoutModel",
          "state": {
            "_model_module": "@jupyter-widgets/base",
            "_model_module_version": "1.2.0",
            "_model_name": "LayoutModel",
            "_view_count": null,
            "_view_module": "@jupyter-widgets/base",
            "_view_module_version": "1.2.0",
            "_view_name": "LayoutView",
            "align_content": null,
            "align_items": null,
            "align_self": null,
            "border": null,
            "bottom": null,
            "display": null,
            "flex": null,
            "flex_flow": null,
            "grid_area": null,
            "grid_auto_columns": null,
            "grid_auto_flow": null,
            "grid_auto_rows": null,
            "grid_column": null,
            "grid_gap": null,
            "grid_row": null,
            "grid_template_areas": null,
            "grid_template_columns": null,
            "grid_template_rows": null,
            "height": null,
            "justify_content": null,
            "justify_items": null,
            "left": null,
            "margin": null,
            "max_height": null,
            "max_width": null,
            "min_height": null,
            "min_width": null,
            "object_fit": null,
            "object_position": null,
            "order": null,
            "overflow": null,
            "overflow_x": null,
            "overflow_y": null,
            "padding": null,
            "right": null,
            "top": null,
            "visibility": null,
            "width": null
          }
        },
        "3d18f083f0d44609b0392a40498d284e": {
          "model_module": "@jupyter-widgets/controls",
          "model_module_version": "1.5.0",
          "model_name": "ProgressStyleModel",
          "state": {
            "_model_module": "@jupyter-widgets/controls",
            "_model_module_version": "1.5.0",
            "_model_name": "ProgressStyleModel",
            "_view_count": null,
            "_view_module": "@jupyter-widgets/base",
            "_view_module_version": "1.2.0",
            "_view_name": "StyleView",
            "bar_color": null,
            "description_width": ""
          }
        },
        "3f43ff0bea264c968d71626b55908f5b": {
          "model_module": "@jupyter-widgets/controls",
          "model_module_version": "1.5.0",
          "model_name": "DescriptionStyleModel",
          "state": {
            "_model_module": "@jupyter-widgets/controls",
            "_model_module_version": "1.5.0",
            "_model_name": "DescriptionStyleModel",
            "_view_count": null,
            "_view_module": "@jupyter-widgets/base",
            "_view_module_version": "1.2.0",
            "_view_name": "StyleView",
            "description_width": ""
          }
        },
        "78b05afc5eff4000a5236c41ee3913ad": {
          "model_module": "@jupyter-widgets/controls",
          "model_module_version": "1.5.0",
          "model_name": "FloatProgressModel",
          "state": {
            "_dom_classes": [],
            "_model_module": "@jupyter-widgets/controls",
            "_model_module_version": "1.5.0",
            "_model_name": "FloatProgressModel",
            "_view_count": null,
            "_view_module": "@jupyter-widgets/controls",
            "_view_module_version": "1.5.0",
            "_view_name": "ProgressView",
            "bar_style": "success",
            "description": "",
            "description_tooltip": null,
            "layout": "IPY_MODEL_dfdd32d70c9b4f03ae83780e2a363595",
            "max": 169168619,
            "min": 0,
            "orientation": "horizontal",
            "style": "IPY_MODEL_3d18f083f0d44609b0392a40498d284e",
            "value": 169168619
          }
        },
        "79f378d881314c338395cbae7cf6da4a": {
          "model_module": "@jupyter-widgets/base",
          "model_module_version": "1.2.0",
          "model_name": "LayoutModel",
          "state": {
            "_model_module": "@jupyter-widgets/base",
            "_model_module_version": "1.2.0",
            "_model_name": "LayoutModel",
            "_view_count": null,
            "_view_module": "@jupyter-widgets/base",
            "_view_module_version": "1.2.0",
            "_view_name": "LayoutView",
            "align_content": null,
            "align_items": null,
            "align_self": null,
            "border": null,
            "bottom": null,
            "display": null,
            "flex": null,
            "flex_flow": null,
            "grid_area": null,
            "grid_auto_columns": null,
            "grid_auto_flow": null,
            "grid_auto_rows": null,
            "grid_column": null,
            "grid_gap": null,
            "grid_row": null,
            "grid_template_areas": null,
            "grid_template_columns": null,
            "grid_template_rows": null,
            "height": null,
            "justify_content": null,
            "justify_items": null,
            "left": null,
            "margin": null,
            "max_height": null,
            "max_width": null,
            "min_height": null,
            "min_width": null,
            "object_fit": null,
            "object_position": null,
            "order": null,
            "overflow": null,
            "overflow_x": null,
            "overflow_y": null,
            "padding": null,
            "right": null,
            "top": null,
            "visibility": null,
            "width": null
          }
        },
        "88083de136404781a528a03456bfc5e0": {
          "model_module": "@jupyter-widgets/controls",
          "model_module_version": "1.5.0",
          "model_name": "HTMLModel",
          "state": {
            "_dom_classes": [],
            "_model_module": "@jupyter-widgets/controls",
            "_model_module_version": "1.5.0",
            "_model_name": "HTMLModel",
            "_view_count": null,
            "_view_module": "@jupyter-widgets/controls",
            "_view_module_version": "1.5.0",
            "_view_name": "HTMLView",
            "description": "",
            "description_tooltip": null,
            "layout": "IPY_MODEL_a2a87630b22a4113b42cb79b3026b19f",
            "placeholder": "​",
            "style": "IPY_MODEL_3f43ff0bea264c968d71626b55908f5b",
            "value": "100%"
          }
        },
        "958fc49dec4549faadc49dc40b112f76": {
          "model_module": "@jupyter-widgets/controls",
          "model_module_version": "1.5.0",
          "model_name": "HBoxModel",
          "state": {
            "_dom_classes": [],
            "_model_module": "@jupyter-widgets/controls",
            "_model_module_version": "1.5.0",
            "_model_name": "HBoxModel",
            "_view_count": null,
            "_view_module": "@jupyter-widgets/controls",
            "_view_module_version": "1.5.0",
            "_view_name": "HBoxView",
            "box_style": "",
            "children": [
              "IPY_MODEL_88083de136404781a528a03456bfc5e0",
              "IPY_MODEL_78b05afc5eff4000a5236c41ee3913ad",
              "IPY_MODEL_b203ec97f21f44f2be7cca3cc60c2fd7"
            ],
            "layout": "IPY_MODEL_196b093241d1411db5e4439996a6b99e"
          }
        },
        "a2a87630b22a4113b42cb79b3026b19f": {
          "model_module": "@jupyter-widgets/base",
          "model_module_version": "1.2.0",
          "model_name": "LayoutModel",
          "state": {
            "_model_module": "@jupyter-widgets/base",
            "_model_module_version": "1.2.0",
            "_model_name": "LayoutModel",
            "_view_count": null,
            "_view_module": "@jupyter-widgets/base",
            "_view_module_version": "1.2.0",
            "_view_name": "LayoutView",
            "align_content": null,
            "align_items": null,
            "align_self": null,
            "border": null,
            "bottom": null,
            "display": null,
            "flex": null,
            "flex_flow": null,
            "grid_area": null,
            "grid_auto_columns": null,
            "grid_auto_flow": null,
            "grid_auto_rows": null,
            "grid_column": null,
            "grid_gap": null,
            "grid_row": null,
            "grid_template_areas": null,
            "grid_template_columns": null,
            "grid_template_rows": null,
            "height": null,
            "justify_content": null,
            "justify_items": null,
            "left": null,
            "margin": null,
            "max_height": null,
            "max_width": null,
            "min_height": null,
            "min_width": null,
            "object_fit": null,
            "object_position": null,
            "order": null,
            "overflow": null,
            "overflow_x": null,
            "overflow_y": null,
            "padding": null,
            "right": null,
            "top": null,
            "visibility": null,
            "width": null
          }
        },
        "a79af3e5d4d74832ae451301710ab477": {
          "model_module": "@jupyter-widgets/controls",
          "model_module_version": "1.5.0",
          "model_name": "DescriptionStyleModel",
          "state": {
            "_model_module": "@jupyter-widgets/controls",
            "_model_module_version": "1.5.0",
            "_model_name": "DescriptionStyleModel",
            "_view_count": null,
            "_view_module": "@jupyter-widgets/base",
            "_view_module_version": "1.2.0",
            "_view_name": "StyleView",
            "description_width": ""
          }
        },
        "b203ec97f21f44f2be7cca3cc60c2fd7": {
          "model_module": "@jupyter-widgets/controls",
          "model_module_version": "1.5.0",
          "model_name": "HTMLModel",
          "state": {
            "_dom_classes": [],
            "_model_module": "@jupyter-widgets/controls",
            "_model_module_version": "1.5.0",
            "_model_name": "HTMLModel",
            "_view_count": null,
            "_view_module": "@jupyter-widgets/controls",
            "_view_module_version": "1.5.0",
            "_view_name": "HTMLView",
            "description": "",
            "description_tooltip": null,
            "layout": "IPY_MODEL_79f378d881314c338395cbae7cf6da4a",
            "placeholder": "​",
            "style": "IPY_MODEL_a79af3e5d4d74832ae451301710ab477",
            "value": " 169168619/169168619 [00:02&lt;00:00, 64195023.20it/s]"
          }
        },
        "dfdd32d70c9b4f03ae83780e2a363595": {
          "model_module": "@jupyter-widgets/base",
          "model_module_version": "1.2.0",
          "model_name": "LayoutModel",
          "state": {
            "_model_module": "@jupyter-widgets/base",
            "_model_module_version": "1.2.0",
            "_model_name": "LayoutModel",
            "_view_count": null,
            "_view_module": "@jupyter-widgets/base",
            "_view_module_version": "1.2.0",
            "_view_name": "LayoutView",
            "align_content": null,
            "align_items": null,
            "align_self": null,
            "border": null,
            "bottom": null,
            "display": null,
            "flex": null,
            "flex_flow": null,
            "grid_area": null,
            "grid_auto_columns": null,
            "grid_auto_flow": null,
            "grid_auto_rows": null,
            "grid_column": null,
            "grid_gap": null,
            "grid_row": null,
            "grid_template_areas": null,
            "grid_template_columns": null,
            "grid_template_rows": null,
            "height": null,
            "justify_content": null,
            "justify_items": null,
            "left": null,
            "margin": null,
            "max_height": null,
            "max_width": null,
            "min_height": null,
            "min_width": null,
            "object_fit": null,
            "object_position": null,
            "order": null,
            "overflow": null,
            "overflow_x": null,
            "overflow_y": null,
            "padding": null,
            "right": null,
            "top": null,
            "visibility": null,
            "width": null
          }
        }
      }
    }
  },
  "nbformat": 4,
  "nbformat_minor": 0
}