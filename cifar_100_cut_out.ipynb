{
  "cells": [
    {
      "cell_type": "code",
      "execution_count": null,
      "metadata": {
        "id": "lOBm-mT1MYZD"
      },
      "outputs": [],
      "source": []
    },
    {
      "cell_type": "code",
      "execution_count": null,
      "metadata": {
        "id": "uhXzXjfy-ItI"
      },
      "outputs": [],
      "source": [
        "import os\n",
        "import torch\n",
        "import torchvision\n",
        "import tarfile\n",
        "import torch.nn as nn\n",
        "import numpy as np\n",
        "import torch.nn.functional as F\n",
        "from torchvision.datasets.utils import download_url\n",
        "from torchvision.datasets import ImageFolder\n",
        "from torch.utils.data import DataLoader\n",
        "from torchvision.transforms import ToTensor\n",
        "import torchvision.transforms as tt\n",
        "from torch.utils.data import random_split\n",
        "from torchvision.utils import make_grid\n",
        "import matplotlib.pyplot as plt\n",
        "import torchvision.models as models\n",
        "%matplotlib inline"
      ]
    },
    {
      "cell_type": "code",
      "execution_count": null,
      "metadata": {
        "colab": {
          "base_uri": "https://localhost:8080/"
        },
        "id": "xX_IVmem54hY",
        "outputId": "4a4cb2d8-8c45-471c-ce10-db8802973ad7"
      },
      "outputs": [
        {
          "name": "stdout",
          "output_type": "stream",
          "text": [
            "Downloading data from https://www.cs.toronto.edu/~kriz/cifar-100-python.tar.gz\n",
            "169001437/169001437 [==============================] - 2s 0us/step\n"
          ]
        }
      ],
      "source": [
        "import numpy as np\n",
        "from tensorflow import keras\n",
        "from tensorflow.keras.applications.resnet50 import ResNet50\n",
        "from tensorflow.keras.datasets import cifar10\n",
        "from tensorflow.keras.preprocessing.image import ImageDataGenerator\n",
        "from tensorflow.keras.layers import *\n",
        "from tensorflow.keras.models import Model\n",
        "import tensorflow as tf\n",
        "\n",
        "# Load the CIFAR-100 dataset\n",
        "(x_train, y_train), (x_test, y_test) = tf.keras.datasets.cifar100.load_data()\n",
        "\n",
        "# Normalize the data\n",
        "x_train = x_train.astype(\"float32\") / 255.0\n",
        "x_test = x_test.astype(\"float32\") / 255.0\n",
        "\n",
        "# Define the Cutout data generator\n",
        "class CutoutGenerator(ImageDataGenerator):\n",
        "    def __init__(self, *args, **kwargs):\n",
        "        super().__init__(*args, **kwargs)\n",
        "\n",
        "    def cutout(self, x, mask_size=16, p=0.5):\n",
        "        # Generate a random mask\n",
        "        mask = np.ones((x.shape[0], x.shape[1], x.shape[2]))\n",
        "        mask_shape = (np.random.randint(0, x.shape[0]), np.random.randint(0, x.shape[1]), mask_size, mask_size)\n",
        "        mask[mask_shape[0]:mask_shape[0]+mask_shape[2], mask_shape[1]:mask_shape[1]+mask_shape[3], :] = 0\n",
        "        mask = tf.convert_to_tensor(mask, dtype=tf.float32)\n",
        "        # Apply the mask to the input image\n",
        "        x = x * mask\n",
        "        return x"
      ]
    },
    {
      "cell_type": "code",
      "execution_count": null,
      "metadata": {
        "colab": {
          "base_uri": "https://localhost:8080/"
        },
        "id": "rtzairug7_vc",
        "outputId": "4dee4e7e-be76-4a55-fa52-8152b9417b6d"
      },
      "outputs": [
        {
          "name": "stdout",
          "output_type": "stream",
          "text": [
            "[0. 0. 0. 0. 0. 0. 0. 0. 0. 0. 0. 0. 0. 0. 0. 0. 0. 0. 0. 0. 0. 0. 0. 0.\n",
            " 0. 0. 0. 0. 0. 1. 0. 0. 0. 0. 0. 0. 0. 0. 0. 0. 0. 0. 0. 0. 0. 0. 0. 0.\n",
            " 0. 0. 0. 0. 0. 0. 0. 0. 0. 0. 0. 0. 0. 0. 0. 0. 0. 0. 0. 0. 0. 0. 0. 0.\n",
            " 0. 0. 0. 0. 0. 0. 0. 0. 0. 0. 0. 0. 0. 0. 0. 0. 0. 0. 0. 0. 0. 0. 0. 0.\n",
            " 0. 0. 0. 0.]\n"
          ]
        }
      ],
      "source": [
        "#Converting the integer labels to one-hot encoded format\n",
        "#This makes labels compatible with the model, and also provides an efficient way to represent the categorical data\n",
        "y_train = tf.keras.utils.to_categorical(y_train, 100)\n",
        "y_test = tf.keras.utils.to_categorical(y_test, 100)\n",
        "#Example\n",
        "print(y_train[1])"
      ]
    },
    {
      "cell_type": "code",
      "execution_count": null,
      "metadata": {
        "id": "AQCvuV8I8Clp"
      },
      "outputs": [],
      "source": [
        "#Performance optimization settings\n",
        "at = tf.data.AUTOTUNE\n",
        "#Batch size is an important hyperparameter that can affect the model's performance and training time\n",
        "batch_len = 32\n",
        "#It is used to resize the images to the same fixed size that can influence model's performance\n",
        "img_size = 32"
      ]
    },
    {
      "cell_type": "code",
      "execution_count": null,
      "metadata": {
        "id": "9Z0KUKC38HUe"
      },
      "outputs": [],
      "source": [
        "def preprocess_image(image, label):\n",
        "   #By resizing, the model is able to process all the images consistently and not be affected by the original size of the images. \n",
        "    image = tf.image.resize(image, (img_size, img_size))\n",
        "    #Normalizing image pixel values to a small range(0,1) improves training stability.\n",
        "    image = tf.image.convert_image_dtype(image, tf.float32) / 255.0\n",
        "    return image, label"
      ]
    },
    {
      "cell_type": "code",
      "execution_count": null,
      "metadata": {
        "id": "sjjo7Pus759S"
      },
      "outputs": [],
      "source": [
        "#train_ds_a & train_ds_b are created by shuffling the training data (x_train, y_train) and applying the preprocess_image function to each example. \n",
        "#Shuffling the data is important to improve the model's generalization.\n",
        "train_ds_a_shuffle = (tf.data.Dataset.from_tensor_slices((x_train, y_train)).shuffle(1024))\n",
        "train_ds_a=train_ds_a_shuffle.map(preprocess_image, num_parallel_calls=at)\n",
        "\n",
        "train_ds_b_shuffle = (tf.data.Dataset.from_tensor_slices((x_train, y_train)).shuffle(1024))\n",
        "train_ds_b=train_ds_b_shuffle.map(preprocess_image, num_parallel_calls=at)\n",
        "\n",
        "#Loading (x_train, y_train) into a TensorFlow Dataset object.\n",
        "train_ds_simple = tf.data.Dataset.from_tensor_slices((x_train, y_train))\n",
        "\n",
        "#Loading(x_test, y_test) into a TensorFlow Dataset object.\n",
        "test_ds = tf.data.Dataset.from_tensor_slices((x_test, y_test))\n",
        "\n",
        "#prefetch() is a method in TensorFlow Dataset that allows the pipeline to asynchronously fetch the next batch of data, while the current batch is being processed. \n",
        "train_ds_simple = (  \n",
        "    train_ds_simple.map(preprocess_image, num_parallel_calls=at)\n",
        "    .batch(batch_len)\n",
        "    .prefetch(at)\n",
        ")\n",
        "\n",
        "# Combine two shuffled datasets from the same training data.\n",
        "train_ds = tf.data.Dataset.zip((train_ds_a, train_ds_b))\n",
        "test_ds = (test_ds.map(preprocess_image, num_parallel_calls=at).batch(batch_len)\n",
        "    .prefetch(at))"
      ]
    },
    {
      "cell_type": "code",
      "execution_count": null,
      "metadata": {
        "id": "jExE-sEg8b-w"
      },
      "outputs": [],
      "source": [
        "def cutout(image, label, p=0.5, cutout_size=16):\n",
        "    if np.random.random() > p:\n",
        "        return image, label\n",
        "    h, w, _ = image.shape\n",
        "    x = np.random.randint(w)\n",
        "    y = np.random.randint(h)\n",
        "    x1 = np.clip(x - cutout_size // 2, 0, w)\n",
        "    y1 = np.clip(y - cutout_size // 2, 0, h)\n",
        "    x2 = np.clip(x + cutout_size // 2, 0, w)\n",
        "    y2 = np.clip(y + cutout_size // 2, 0, h)\n",
        "    image[y1:y2, x1:x2] = 0\n",
        "    return image, label\n"
      ]
    },
    {
      "cell_type": "code",
      "execution_count": null,
      "metadata": {
        "id": "vj5v3ncC9b36"
      },
      "outputs": [],
      "source": [
        "def cutout(image, label):\n",
        "    image, label = image\n",
        "    h, w, _ = image.shape\n",
        "    cut_size = int(h * 0.1)\n",
        "    "
      ]
    },
    {
      "cell_type": "code",
      "execution_count": null,
      "metadata": {
        "id": "e2cOS02C_5uM"
      },
      "outputs": [],
      "source": [
        "def cutout(image, size=12, n_squares=1):\n",
        "    h, w, channels = image.shape\n",
        "    new_image = image\n",
        "    for _ in range(n_squares):\n",
        "        y = np.random.randint(h)\n",
        "        x = np.random.randint(w)\n",
        "        y1 = np.clip(y - size // 2, 0, h)\n",
        "        y2 = np.clip(y + size // 2, 0, h)\n",
        "        x1 = np.clip(x - size // 2, 0, w)\n",
        "        x2 = np.clip(x + size // 2, 0, w)\n",
        "        new_image[y1:y2,x1:x2,:] = 0\n",
        "    return new_image"
      ]
    },
    {
      "cell_type": "code",
      "execution_count": null,
      "metadata": {
        "id": "-gJmn5pL-A7g"
      },
      "outputs": [],
      "source": []
    },
    {
      "cell_type": "code",
      "execution_count": null,
      "metadata": {
        "colab": {
          "base_uri": "https://localhost:8080/"
        },
        "id": "G3Gb7SzuATaz",
        "outputId": "eb7dc513-b995-4153-cc3f-8d181fe5b02e"
      },
      "outputs": [
        {
          "data": {
            "text/plain": [
              "<ZipDataset element_spec=((TensorSpec(shape=(32, 32, 3), dtype=tf.float32, name=None), TensorSpec(shape=(100,), dtype=tf.float32, name=None)), (TensorSpec(shape=(32, 32, 3), dtype=tf.float32, name=None), TensorSpec(shape=(100,), dtype=tf.float32, name=None)))>"
            ]
          },
          "execution_count": 13,
          "metadata": {},
          "output_type": "execute_result"
        }
      ],
      "source": [
        "train_ds"
      ]
    },
    {
      "cell_type": "code",
      "execution_count": null,
      "metadata": {
        "colab": {
          "base_uri": "https://localhost:8080/",
          "height": 132
        },
        "id": "kTcTD1GAFXeI",
        "outputId": "0f0714f3-cf8d-467e-fcf8-dc4d1d1e7594"
      },
      "outputs": [
        {
          "name": "stdout",
          "output_type": "stream",
          "text": [
            "Images with cutout:\n"
          ]
        },
        {
          "data": {
            "image/png": "[encoded data removed]",
            "text/plain": [
              "<Figure size 432x288 with 2 Axes>"
            ]
          },
          "metadata": {},
          "output_type": "display_data"
        }
      ],
      "source": [
        "print(\"Images with cutout:\")\n",
        "for i in range(2):\n",
        "    plt.subplot(330 + 1 + i)\n",
        "    plt.imshow(cutout(x_train[i]))\n",
        "plt.show()"
      ]
    },
    {
      "cell_type": "code",
      "execution_count": null,
      "metadata": {
        "id": "-BuJYDPHH1qi"
      },
      "outputs": [],
      "source": [
        "from tensorflow.keras.preprocessing.image import ImageDataGenerator\n",
        "\n",
        "class CutoutGenerator(ImageDataGenerator):\n",
        "    def __init__(self, cutout_size=12, cutout_n_squares=1, *args, **kwargs):\n",
        "        super().__init__(*args, **kwargs)\n",
        "        self.cutout_size = cutout_size\n",
        "        self.cutout_n_squares = cutout_n_squares\n",
        "    \n",
        "    def cutout(self, x, y):\n",
        "        x = cutout(x, size=self.cutout_size, n_squares=self.cutout_n_squares)\n",
        "        return x, y"
      ]
    },
    {
      "cell_type": "code",
      "execution_count": null,
      "metadata": {
        "id": "L6pJQF8g7SjG"
      },
      "outputs": [],
      "source": [
        "def resnet_layer(\n",
        "    inputs,\n",
        "    num_filters=16,\n",
        "    kernel_size=3,\n",
        "    strides=1,\n",
        "    activation=\"relu\",\n",
        "    batch_normalization=True,\n",
        "    conv_first=True,\n",
        "):\n",
        "    conv = keras.layers.Conv2D(\n",
        "        num_filters,\n",
        "        kernel_size=kernel_size,\n",
        "        strides=strides,\n",
        "        padding=\"same\",\n",
        "        kernel_initializer=\"he_normal\",\n",
        "        kernel_regularizer=keras.regularizers.l2(1e-4),\n",
        "    )\n",
        "    x = inputs\n",
        "    if conv_first:\n",
        "        x = conv(x)\n",
        "        if batch_normalization:\n",
        "            x = keras.layers.BatchNormalization()(x)\n",
        "        if activation is not None:\n",
        "            x = keras.layers.Activation(activation)(x)\n",
        "    else:\n",
        "        if batch_normalization:\n",
        "            x = keras.layers.BatchNormalization()(x)\n",
        "        if activation is not None:\n",
        "            x = keras.layers.Activation(activation)(x)\n",
        "        x = conv(x)\n",
        "    return x\n",
        "\n",
        "\n",
        "def resnet_v20(input_shape, depth, num_classes=100):\n",
        "    if (depth - 2) % 6 != 0:\n",
        "        raise ValueError(\"depth should be 6n+2 (eg 20, 32, 44 in [a])\")\n",
        "    # Start model definition.\n",
        "    num_filters = 16\n",
        "    num_res_blocks = int((depth - 2) / 6)\n",
        "\n",
        "    inputs = keras.layers.Input(shape=input_shape)\n",
        "    x = resnet_layer(inputs=inputs)\n",
        "    # Instantiate the stack of residual units\n",
        "    for stack in range(3):\n",
        "        for res_block in range(num_res_blocks):\n",
        "            strides = 1\n",
        "            if stack > 0 and res_block == 0:  # first layer but not first stack\n",
        "                strides = 2  # downsample\n",
        "            y = resnet_layer(inputs=x, num_filters=num_filters, strides=strides)\n",
        "            y = resnet_layer(inputs=y, num_filters=num_filters, activation=None)\n",
        "            if stack > 0 and res_block == 0:  # first layer but not first stack\n",
        "                # linear projection residual shortcut connection to match\n",
        "                # changed dims\n",
        "                x = resnet_layer(\n",
        "                    inputs=x,\n",
        "                    num_filters=num_filters,\n",
        "                    kernel_size=1,\n",
        "                    strides=strides,\n",
        "                    activation=None,\n",
        "                    batch_normalization=False,\n",
        "                )\n",
        "            x = keras.layers.add([x, y])\n",
        "            x = keras.layers.Activation(\"relu\")(x)\n",
        "        num_filters *= 2\n",
        "\n",
        "    # Add classifier on top.\n",
        "    # v1 does not use BN after last shortcut connection-ReLU\n",
        "    x = keras.layers.AveragePooling2D(pool_size=8)(x)\n",
        "    y = keras.layers.Flatten()(x)\n",
        "    outputs = keras.layers.Dense(\n",
        "        num_classes, activation=\"softmax\", kernel_initializer=\"he_normal\"\n",
        "    )(y)\n",
        "\n",
        "    # Instantiate model.\n",
        "    model = keras.models.Model(inputs=inputs, outputs=outputs)\n",
        "    return model\n",
        "\n",
        "\n",
        "def training_model():\n",
        "    return resnet_v20((32, 32, 3), 20)\n",
        "\n",
        "\n",
        "initial_model = training_model()\n",
        "initial_model.save_weights(\"initial_weights.h5\")"
      ]
    },
    {
      "cell_type": "code",
      "execution_count": null,
      "metadata": {
        "colab": {
          "background_save": true,
          "base_uri": "https://localhost:8080/"
        },
        "id": "D0NGyTsX7YSi",
        "outputId": "7e31e135-98a4-4f85-9d27-89f43adaff88"
      },
      "outputs": [
        {
          "name": "stdout",
          "output_type": "stream",
          "text": [
            "Epoch 1/15\n",
            "1563/1563 [==============================] - 765s 487ms/step - loss: 4.0100 - accuracy: 0.1122 - val_loss: 3.7747 - val_accuracy: 0.1423\n",
            "Epoch 2/15\n",
            "1563/1563 [==============================] - 763s 488ms/step - loss: 3.2251 - accuracy: 0.2325 - val_loss: 3.4236 - val_accuracy: 0.1931\n",
            "Epoch 3/15\n",
            "1563/1563 [==============================] - 761s 487ms/step - loss: 2.8128 - accuracy: 0.3127 - val_loss: 2.9817 - val_accuracy: 0.2914\n",
            "Epoch 4/15\n",
            "1563/1563 [==============================] - 767s 491ms/step - loss: 2.5431 - accuracy: 0.3768 - val_loss: 2.7696 - val_accuracy: 0.3351\n",
            "Epoch 5/15\n",
            "1563/1563 [==============================] - 758s 485ms/step - loss: 2.3494 - accuracy: 0.4224 - val_loss: 2.5763 - val_accuracy: 0.3763\n",
            "Epoch 6/15\n",
            "1563/1563 [==============================] - 765s 489ms/step - loss: 2.1974 - accuracy: 0.4596 - val_loss: 2.4700 - val_accuracy: 0.4096\n",
            "Epoch 7/15\n",
            "1563/1563 [==============================] - ETA: 0s - loss: 2.0762 - accuracy: 0.4927"
          ]
        }
      ],
      "source": [
        "# Instantiate the Cutout generator\n",
        "model = training_model()\n",
        "model.load_weights(\"initial_weights.h5\")\n",
        "model.compile(loss=\"categorical_crossentropy\", optimizer=\"adam\", metrics=[\"accuracy\"])\n",
        "cutout_gen = CutoutGenerator(cutout_size=12, cutout_n_squares=1)\n",
        "cutout_gen.fit(x_train)\n",
        "model.fit(cutout_gen.flow(x_train, y_train, batch_size=32), epochs=15, validation_data=(x_test, y_test))\n",
        "test_loss, test_accuracy = model.evaluate(test_ds)\n",
        "print(\"Test accuracy: {:.2f}%\".format(test_accuracy * 100))"
      ]
    },
    {
      "cell_type": "code",
      "execution_count": null,
      "metadata": {
        "id": "-eGaRD387Dle"
      },
      "outputs": [],
      "source": [
        "\n",
        "# Instantiate the Cutout generator\n",
        "cutout_gen = CutoutGenerator()\n",
        "\n",
        "# Create the ResNet model\n",
        "resnet = ResNet50(weights=None, input_shape=(32, 32, 3), classes=10)\n",
        "\n",
        "# Compile the model\n",
        "resnet.compile(optimizer='adam', loss='categorical_crossentropy', metrics=['accuracy'])\n",
        "\n",
        "# Fit the model on the Cutout generator\n",
        "resnet.fit(cutout_gen.flow(x_train, y_train, batch_size=32), epochs=15, validation_data=(x_test, y_test))"
      ]
    },
    {
      "cell_type": "code",
      "execution_count": null,
      "metadata": {
        "colab": {
          "base_uri": "https://localhost:8080/",
          "height": 184
        },
        "id": "_HZ-tq8_6NUC",
        "outputId": "15664dea-bb6c-4fe6-f90c-9591f875c74f"
      },
      "outputs": [
        {
          "ename": "NameError",
          "evalue": "ignored",
          "output_type": "error",
          "traceback": [
            "\u001b[0;31m---------------------------------------------------------------------------\u001b[0m",
            "\u001b[0;31mNameError\u001b[0m                                 Traceback (most recent call last)",
            "\u001b[0;32m<ipython-input-1-ec68f22af358>\u001b[0m in \u001b[0;36m<module>\u001b[0;34m\u001b[0m\n\u001b[0;32m----> 1\u001b[0;31m \u001b[0mtest_loss\u001b[0m\u001b[0;34m,\u001b[0m \u001b[0mtest_accuracy\u001b[0m \u001b[0;34m=\u001b[0m \u001b[0mmodel\u001b[0m\u001b[0;34m.\u001b[0m\u001b[0mevaluate\u001b[0m\u001b[0;34m(\u001b[0m\u001b[0mx_test\u001b[0m\u001b[0;34m,\u001b[0m \u001b[0my_test\u001b[0m\u001b[0;34m)\u001b[0m\u001b[0;34m\u001b[0m\u001b[0;34m\u001b[0m\u001b[0m\n\u001b[0m\u001b[1;32m      2\u001b[0m \u001b[0mprint\u001b[0m\u001b[0;34m(\u001b[0m\u001b[0;34m\"Test accuracy: {:.2f}%\"\u001b[0m\u001b[0;34m.\u001b[0m\u001b[0mformat\u001b[0m\u001b[0;34m(\u001b[0m\u001b[0mtest_accuracy\u001b[0m \u001b[0;34m*\u001b[0m \u001b[0;36m100\u001b[0m\u001b[0;34m)\u001b[0m\u001b[0;34m)\u001b[0m\u001b[0;34m\u001b[0m\u001b[0;34m\u001b[0m\u001b[0m\n",
            "\u001b[0;31mNameError\u001b[0m: name 'model' is not defined"
          ]
        }
      ],
      "source": [
        "test_loss, test_accuracy = model.evaluate(x_test, y_test)\n",
        "print(\"Test accuracy: {:.2f}%\".format(test_accuracy * 100))"
      ]
    }
  ],
  "metadata": {
    "colab": {
      "provenance": []
    },
    "kernelspec": {
      "display_name": "Python 3",
      "name": "python3"
    },
    "language_info": {
      "name": "python"
    }
  },
  "nbformat": 4,
  "nbformat_minor": 0
}