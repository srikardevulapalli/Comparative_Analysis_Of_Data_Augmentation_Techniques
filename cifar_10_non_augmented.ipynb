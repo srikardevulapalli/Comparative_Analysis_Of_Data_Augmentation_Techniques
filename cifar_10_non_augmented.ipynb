{
  "nbformat": 4,
  "nbformat_minor": 0,
  "metadata": {
    "colab": {
      "provenance": []
    },
    "kernelspec": {
      "name": "python3",
      "display_name": "Python 3"
    },
    "language_info": {
      "name": "python"
    }
  },
  "cells": [
    {
      "cell_type": "markdown",
      "source": [
        "### Importing Libraries"
      ],
      "metadata": {
        "id": "44fXQWGvpd_b"
      }
    },
    {
      "cell_type": "code",
      "source": [
        "import os\n",
        "import torch\n",
        "import torchvision\n",
        "import tarfile\n",
        "from torchvision.datasets.utils import download_url\n",
        "from torch.utils.data import random_split\n",
        "from torchvision.datasets import ImageFolder\n",
        "from torchvision.transforms import ToTensor,ToPILImage\n",
        "import matplotlib.pyplot as plt\n",
        "from torchvision.utils import make_grid\n",
        "from torch.utils.data.dataloader import DataLoader\n",
        "from torchvision.utils import make_grid\n",
        "import torch.nn as nn\n",
        "import torch.nn.functional as F"
      ],
      "metadata": {
        "id": "1AG53RGvtWvc"
      },
      "execution_count": null,
      "outputs": []
    },
    {
      "cell_type": "code",
      "execution_count": null,
      "metadata": {
        "id": "_xpPJvBam8Cs"
      },
      "outputs": [],
      "source": [
        "#Importing the libraries\n",
        "import tensorflow as tf\n",
        "from tensorflow import keras\n",
        "import numpy as np\n",
        "import pandas as pd\n",
        "from keras.layers import Dense, Conv2D, BatchNormalization, Activation\n",
        "from keras.layers import GlobalAveragePooling2D, Input, Flatten\n",
        "from keras import optimizers\n",
        "from keras.callbacks import ModelCheckpoint, LearningRateScheduler\n",
        "from keras.callbacks import ReduceLROnPlateau\n",
        "from keras.preprocessing.image import ImageDataGenerator\n",
        "from keras.regularizers import l2\n",
        "from keras import backend as K\n",
        "from keras.models import Model\n",
        "import keras\n"
      ]
    },
    {
      "cell_type": "code",
      "source": [
        " "
      ],
      "metadata": {
        "id": "SKnWzW-ZzOyN"
      },
      "execution_count": null,
      "outputs": []
    },
    {
      "cell_type": "markdown",
      "source": [
        "### Loading the data"
      ],
      "metadata": {
        "id": "CSm_zPqTqPyU"
      }
    },
    {
      "cell_type": "code",
      "source": [
        "#Loading data\n",
        "cifar_10=tf.keras.datasets.cifar10.load_data()"
      ],
      "metadata": {
        "id": "Y7TB1FoTt6v7",
        "colab": {
          "base_uri": "https://localhost:8080/"
        },
        "outputId": "a02aad26-43fe-4d15-e1c8-54ea3dd591b5"
      },
      "execution_count": null,
      "outputs": [
        {
          "output_type": "stream",
          "name": "stdout",
          "text": [
            "Downloading data from https://www.cs.toronto.edu/~kriz/cifar-10-python.tar.gz\n",
            "170498071/170498071 [==============================] - 3s 0us/step\n"
          ]
        }
      ]
    },
    {
      "cell_type": "markdown",
      "source": [
        "### Data Exploration"
      ],
      "metadata": {
        "id": "zA5P8K-CprbN"
      }
    },
    {
      "cell_type": "code",
      "source": [
        "print(type(cifar_10))\n",
        "print(len(cifar_10))\n",
        "print(type(cifar_10[0][0]))\n",
        "print(cifar_10[0][0].shape)\n",
        "print(cifar_10[1][0].shape)\n",
        "#Cifar10 data consists of 2 image cohorts. One for training (50000 images) and the other for testing (10000 images)\n",
        "# These images are 32 x 32 sq.pixel resolution color images (varying RGB)"
      ],
      "metadata": {
        "colab": {
          "base_uri": "https://localhost:8080/"
        },
        "id": "zny8xKBlpNoX",
        "outputId": "d063c243-ad59-46fd-dbdf-7ba3e934ae19"
      },
      "execution_count": null,
      "outputs": [
        {
          "output_type": "stream",
          "name": "stdout",
          "text": [
            "<class 'tuple'>\n",
            "2\n",
            "<class 'numpy.ndarray'>\n",
            "(50000, 32, 32, 3)\n",
            "(10000, 32, 32, 3)\n"
          ]
        }
      ]
    },
    {
      "cell_type": "code",
      "source": [
        "#Displaying sample images\n",
        "print(plt.imshow(cifar_10[0][0][49999]))"
      ],
      "metadata": {
        "colab": {
          "base_uri": "https://localhost:8080/",
          "height": 283
        },
        "id": "K-Qflm-ft0bV",
        "outputId": "c489e83a-1bdd-4887-ec59-d4ce0ab63c6e"
      },
      "execution_count": null,
      "outputs": [
        {
          "output_type": "stream",
          "name": "stdout",
          "text": [
            "AxesImage(54,36;334.8x217.44)\n"
          ]
        },
        {
          "output_type": "display_data",
          "data": {
            "text/plain": [
              "<Figure size 432x288 with 1 Axes>"
            ],
            "image/png": "[encoded data removed]"
          },
          "metadata": {
            "needs_background": "light"
          }
        }
      ]
    },
    {
      "cell_type": "code",
      "source": [
        "#Displaying sample images\n",
        "plt.imshow(cifar_10[1][0][9999])"
      ],
      "metadata": {
        "colab": {
          "base_uri": "https://localhost:8080/",
          "height": 283
        },
        "id": "g3-KFfN70LpK",
        "outputId": "fdcb384e-5bdc-4181-bc92-7e4d151609c5"
      },
      "execution_count": null,
      "outputs": [
        {
          "output_type": "execute_result",
          "data": {
            "text/plain": [
              "<matplotlib.image.AxesImage at 0x7f27061a8d90>"
            ]
          },
          "metadata": {},
          "execution_count": 6
        },
        {
          "output_type": "display_data",
          "data": {
            "text/plain": [
              "<Figure size 432x288 with 1 Axes>"
            ],
            "image/png": "[encoded data removed]"
          },
          "metadata": {
            "needs_background": "light"
          }
        }
      ]
    },
    {
      "cell_type": "code",
      "source": [
        "#Cifar-10 has images each belonging to 10 classes\n",
        "class_names = ['airplane', 'automobile', 'bird', 'cat', 'deer', \n",
        "          'dog', 'frog', 'horse', 'ship', 'truck']\n",
        "(x_train, y_train), (x_test, y_test) = cifar_10\n",
        "#Seperating the labels from images to enable easy modelling and validation\n",
        "print(x_train.shape)\n",
        "print(y_train.shape)\n",
        "print(x_test.shape)\n",
        "print(y_test.shape)"
      ],
      "metadata": {
        "colab": {
          "base_uri": "https://localhost:8080/"
        },
        "id": "D5uMawPPnHLC",
        "outputId": "a61018be-0914-4100-b372-351369fbafcc"
      },
      "execution_count": null,
      "outputs": [
        {
          "output_type": "stream",
          "name": "stdout",
          "text": [
            "(50000, 32, 32, 3)\n",
            "(50000, 1)\n",
            "(10000, 32, 32, 3)\n",
            "(10000, 1)\n"
          ]
        }
      ]
    },
    {
      "cell_type": "code",
      "source": [
        "#Sample image\n",
        "plt.imshow(x_train[0,0:])\n",
        "print(class_names[y_train[0][0]])"
      ],
      "metadata": {
        "colab": {
          "base_uri": "https://localhost:8080/",
          "height": 283
        },
        "id": "KzKh3l2jyqkf",
        "outputId": "4d9fc44d-c911-4e81-8064-9f2deb13dbcc"
      },
      "execution_count": null,
      "outputs": [
        {
          "output_type": "stream",
          "name": "stdout",
          "text": [
            "frog\n"
          ]
        },
        {
          "output_type": "display_data",
          "data": {
            "text/plain": [
              "<Figure size 432x288 with 1 Axes>"
            ],
            "image/png": "[encoded data removed]"
          },
          "metadata": {
            "needs_background": "light"
          }
        }
      ]
    },
    {
      "cell_type": "code",
      "source": [
        "classes, counts = np.unique(y_train, return_counts=True)\n",
        "plt_1 = plt.figure(figsize=(10, 3))\n",
        "plt.bar(class_names, counts,width = 0.4,label=True)\n",
        "# Distribution of images in the classes are same for train data (5000 images across 10 sets)"
      ],
      "metadata": {
        "colab": {
          "base_uri": "https://localhost:8080/",
          "height": 228
        },
        "id": "aRpn-IirvKm9",
        "outputId": "332943ce-3eb5-42a6-875a-eb343221a504"
      },
      "execution_count": null,
      "outputs": [
        {
          "output_type": "execute_result",
          "data": {
            "text/plain": [
              "<BarContainer object of 10 artists>"
            ]
          },
          "metadata": {},
          "execution_count": 9
        },
        {
          "output_type": "display_data",
          "data": {
            "text/plain": [
              "<Figure size 720x216 with 1 Axes>"
            ],
            "image/png": "[encoded data removed]"
          },
          "metadata": {
            "needs_background": "light"
          }
        }
      ]
    },
    {
      "cell_type": "code",
      "source": [
        "classes, counts = np.unique(y_test, return_counts=True)\n",
        "plt_1 = plt.figure(figsize=(10, 3))\n",
        "plt.bar(class_names, counts,width = 0.4,label=True)\n",
        "# Distribution of images in the classes are same for test data (1000 images across 10 sets)"
      ],
      "metadata": {
        "colab": {
          "base_uri": "https://localhost:8080/",
          "height": 228
        },
        "id": "C5q9att0xn-a",
        "outputId": "2a28e767-7cf5-48c3-8306-89c183da7aec"
      },
      "execution_count": null,
      "outputs": [
        {
          "output_type": "execute_result",
          "data": {
            "text/plain": [
              "<BarContainer object of 10 artists>"
            ]
          },
          "metadata": {},
          "execution_count": 10
        },
        {
          "output_type": "display_data",
          "data": {
            "text/plain": [
              "<Figure size 720x216 with 1 Axes>"
            ],
            "image/png": "[encoded data removed]"
          },
          "metadata": {
            "needs_background": "light"
          }
        }
      ]
    },
    {
      "cell_type": "markdown",
      "source": [
        "### Data Pre Processing"
      ],
      "metadata": {
        "id": "tA6Cb9MDzALR"
      }
    },
    {
      "cell_type": "code",
      "source": [
        "#Converting the integer labels to one-hot encoded format\n",
        "#This makes labels compatible with the model, and also provides an efficient way to represent the categorical data\n",
        "y_train = tf.keras.utils.to_categorical(y_train, 10)\n",
        "y_test = tf.keras.utils.to_categorical(y_test, 10)\n",
        "#Example\n",
        "print(y_train[1])"
      ],
      "metadata": {
        "colab": {
          "base_uri": "https://localhost:8080/"
        },
        "id": "I-Taf_3Ot6BD",
        "outputId": "90a61512-12be-4ae9-ad5b-dfc3068d51c5"
      },
      "execution_count": null,
      "outputs": [
        {
          "output_type": "stream",
          "name": "stdout",
          "text": [
            "[0. 0. 0. 0. 0. 0. 0. 0. 0. 1.]\n"
          ]
        }
      ]
    },
    {
      "cell_type": "code",
      "source": [
        "#Performance optimization settings\n",
        "at = tf.data.AUTOTUNE\n",
        "#Batch size is an important hyperparameter that can affect the model's performance and training time\n",
        "batch_len = 32\n",
        "#It is used to resize the images to the same fixed size that can influence model's performance\n",
        "img_size = 32"
      ],
      "metadata": {
        "id": "dBqY_XYhGBlt"
      },
      "execution_count": null,
      "outputs": []
    },
    {
      "cell_type": "code",
      "source": [
        "print(y_train[1])"
      ],
      "metadata": {
        "colab": {
          "base_uri": "https://localhost:8080/"
        },
        "id": "NWfhWR8m1Prs",
        "outputId": "d4553454-79e2-4b76-e602-701256cebe20"
      },
      "execution_count": null,
      "outputs": [
        {
          "output_type": "stream",
          "name": "stdout",
          "text": [
            "[0. 0. 0. 0. 0. 0. 0. 0. 0. 1.]\n"
          ]
        }
      ]
    },
    {
      "cell_type": "code",
      "source": [
        "def preprocess_image(image, label):\n",
        "   #By resizing, the model is able to process all the images consistently and not be affected by the original size of the images. \n",
        "    image = tf.image.resize(image, (img_size, img_size))\n",
        "    #Normalizing image pixel values to a small range(0,1) improves training stability.\n",
        "    image = tf.image.convert_image_dtype(image, tf.float32) / 255.0\n",
        "    return image, label"
      ],
      "metadata": {
        "id": "8tApFkhJ55vj"
      },
      "execution_count": null,
      "outputs": []
    },
    {
      "cell_type": "markdown",
      "source": [
        "#### Creating TensorFlow data objects\n",
        "#####  The following code snippet sets up the data pipeline by loading, shuffling, preprocessing, and batching the training and testing data and also creating a dataset by combining two shuffled datasets from the same training data. \n",
        "##### These operations help to improve the model's performance and make the data pipeline more efficient and easy to use with TensorFlow.These operations help to improve the model's performance and make the data pipeline more efficient and easy to use with TensorFlow.\n",
        "\n",
        "\n",
        "\n"
      ],
      "metadata": {
        "id": "71Al3YSo08vk"
      }
    },
    {
      "cell_type": "code",
      "source": [
        "#train_ds_a & train_ds_b are created by shuffling the training data (x_train, y_train) and applying the preprocess_image function to each example. \n",
        "#Shuffling the data is important to improve the model's generalization.\n",
        "train_ds_a_shuffle = (tf.data.Dataset.from_tensor_slices((x_train, y_train)).shuffle(1024))\n",
        "train_ds_a=train_ds_a_shuffle.map(preprocess_image, num_parallel_calls=at)\n",
        "\n",
        "train_ds_b_shuffle = (tf.data.Dataset.from_tensor_slices((x_train, y_train)).shuffle(1024))\n",
        "train_ds_b=train_ds_b_shuffle.map(preprocess_image, num_parallel_calls=at)\n",
        "\n",
        "#Loading (x_train, y_train) into a TensorFlow Dataset object.\n",
        "train_ds_simple = tf.data.Dataset.from_tensor_slices((x_train, y_train))\n",
        "\n",
        "#Loading(x_test, y_test) into a TensorFlow Dataset object.\n",
        "test_ds = tf.data.Dataset.from_tensor_slices((x_test, y_test))\n",
        "\n",
        "#prefetch() is a method in TensorFlow Dataset that allows the pipeline to asynchronously fetch the next batch of data, while the current batch is being processed. \n",
        "train_ds_simple = (  \n",
        "    train_ds_simple.map(preprocess_image, num_parallel_calls=at)\n",
        "    .batch(batch_len)\n",
        "    .prefetch(at)\n",
        ")\n",
        "\n",
        "# Combine two shuffled datasets from the same training data.\n",
        "train_ds = tf.data.Dataset.zip((train_ds_a, train_ds_b))\n",
        "test_ds = (test_ds.map(preprocess_image, num_parallel_calls=at).batch(batch_len)\n",
        "    .prefetch(at))"
      ],
      "metadata": {
        "id": "5nxgE_2P04SS"
      },
      "execution_count": null,
      "outputs": []
    },
    {
      "cell_type": "code",
      "source": [
        "def sample_beta_distribution(size, concentration_0=0.2, concentration_1=0.2):\n",
        "    gamma_1_sample = tf.random.gamma(shape=[size], alpha=concentration_1)\n",
        "    gamma_2_sample = tf.random.gamma(shape=[size], alpha=concentration_0)\n",
        "    return gamma_1_sample / (gamma_1_sample + gamma_2_sample)\n",
        "\n",
        "\n",
        "@tf.function\n",
        "def get_box(lambda_value):\n",
        "    cut_rat = tf.math.sqrt(1.0 - lambda_value)\n",
        "\n",
        "    cut_w = img_size * cut_rat  # rw\n",
        "    cut_w = tf.cast(cut_w, tf.int32)\n",
        "\n",
        "    cut_h = img_size * cut_rat  # rh\n",
        "    cut_h = tf.cast(cut_h, tf.int32)\n",
        "\n",
        "    cut_x = tf.random.uniform((1,), minval=0, maxval=img_size, dtype=tf.int32)  # rx\n",
        "    cut_y = tf.random.uniform((1,), minval=0, maxval=img_size, dtype=tf.int32)  # ry\n",
        "\n",
        "    boundaryx1 = tf.clip_by_value(cut_x[0] - cut_w // 2, 0, img_size)\n",
        "    boundaryy1 = tf.clip_by_value(cut_y[0] - cut_h // 2, 0, img_size)\n",
        "    bbx2 = tf.clip_by_value(cut_x[0] + cut_w // 2, 0, img_size)\n",
        "    bby2 = tf.clip_by_value(cut_y[0] + cut_h // 2, 0, img_size)\n",
        "\n",
        "    target_h = bby2 - boundaryy1\n",
        "    if target_h == 0:\n",
        "        target_h += 1\n",
        "\n",
        "    target_w = bbx2 - boundaryx1\n",
        "    if target_w == 0:\n",
        "        target_w += 1\n",
        "\n",
        "    return boundaryx1, boundaryy1, target_h, target_w\n",
        "\n",
        "\n",
        "@tf.function\n",
        "def cutmix(train_ds_a, train_ds_b):\n",
        "    (image1, label1), (image2, label2) = train_ds_a, train_ds_b\n",
        "\n",
        "    alpha = [0.25]\n",
        "    beta = [0.25]\n",
        "\n",
        "    # Get a sample from the Beta distribution\n",
        "    lambda_value = sample_beta_distribution(1, alpha, beta)\n",
        "\n",
        "    # Define Lambda\n",
        "    lambda_value = lambda_value[0][0]\n",
        "\n",
        "    # Get the bounding box offsets, heights and widths\n",
        "    boundaryx1, boundaryy1, target_h, target_w = get_box(lambda_value)\n",
        "\n",
        "    # Get a patch from the second image (`image2`)\n",
        "    crop2 = tf.image.crop_to_bounding_box(\n",
        "        image2, boundaryy1, boundaryx1, target_h, target_w\n",
        "    )\n",
        "    # Pad the `image2` patch (`crop2`) with the same offset\n",
        "    image2 = tf.image.pad_to_bounding_box(\n",
        "        crop2, boundaryy1, boundaryx1, img_size, img_size\n",
        "    )\n",
        "    # Get a patch from the first image (`image1`)\n",
        "    crop1 = tf.image.crop_to_bounding_box(\n",
        "        image1, boundaryy1, boundaryx1, target_h, target_w\n",
        "    )\n",
        "    # Pad the `image1` patch (`crop1`) with the same offset\n",
        "    img1 = tf.image.pad_to_bounding_box(\n",
        "        crop1, boundaryy1, boundaryx1, img_size, img_size\n",
        "    )\n",
        "\n",
        "    # Modify the first image by subtracting the patch from `image1`\n",
        "    # (before applying the `image2` patch)\n",
        "    image1 = image1 - img1\n",
        "    # Add the modified `image1` and `image2`  together to get the CutMix image\n",
        "    image = image1 + image2\n",
        "\n",
        "    # Adjust Lambda in accordance to the pixel ration\n",
        "    lambda_value = 1 - (target_w * target_h) / (img_size * img_size)\n",
        "    lambda_value = tf.cast(lambda_value, tf.float64)\n",
        "    label1 = tf.cast(label1, tf.float64)\n",
        "    label2 = tf.cast(label2, tf.float64)\n",
        "    # Combine the labels of both images\n",
        "    label = lambda_value * label1 + (1 - lambda_value) * label2\n",
        "    return image, label"
      ],
      "metadata": {
        "id": "YG7rEM-ZSh2m"
      },
      "execution_count": null,
      "outputs": []
    },
    {
      "cell_type": "markdown",
      "source": [
        "### Cutmix Data Aumgentation\n"
      ],
      "metadata": {
        "id": "2Vic7X0J2eGG"
      }
    },
    {
      "cell_type": "code",
      "source": [
        "# Create the new dataset using our `cutmix` utility\n",
        "train_ds_cmu = (train_ds.shuffle(1024)\n",
        "    .map(cutmix, num_parallel_calls=at)\n",
        "    .batch(batch_len)\n",
        "    .prefetch(at)\n",
        ")\n",
        "print(train_ds_cmu)\n",
        "# Let's preview 9 samples from the dataset\n",
        "image_batch, label_batch = next(iter(train_ds_cmu))\n",
        "plt.figure(figsize=(10, 10))\n",
        "for i in range(9):\n",
        "    ax = plt.subplot(3, 3, i + 1)\n",
        "    plt.title(class_names[np.argmax(label_batch[i])])\n",
        "    plt.imshow(image_batch[i])\n",
        "    plt.axis(\"off\")"
      ],
      "metadata": {
        "colab": {
          "base_uri": "https://localhost:8080/",
          "height": 608
        },
        "id": "zhmyF2PH4qau",
        "outputId": "a235aca3-35a8-4c82-9219-cc6f60d27179"
      },
      "execution_count": null,
      "outputs": [
        {
          "output_type": "stream",
          "name": "stdout",
          "text": [
            "<PrefetchDataset element_spec=(TensorSpec(shape=(None, 32, 32, 3), dtype=tf.float32, name=None), TensorSpec(shape=(None, 10), dtype=tf.float64, name=None))>\n"
          ]
        },
        {
          "output_type": "display_data",
          "data": {
            "text/plain": [
              "<Figure size 720x720 with 9 Axes>"
            ],
            "image/png": "[encoded data removed]"
          },
          "metadata": {
            "needs_background": "light"
          }
        }
      ]
    },
    {
      "cell_type": "code",
      "source": [],
      "metadata": {
        "colab": {
          "base_uri": "https://localhost:8080/"
        },
        "id": "ZbXPq5ICiOGS",
        "outputId": "ed2e35b2-c663-4a6e-924e-012372af1817"
      },
      "execution_count": null,
      "outputs": [
        {
          "output_type": "execute_result",
          "data": {
            "text/plain": [
              "1563"
            ]
          },
          "metadata": {},
          "execution_count": 18
        }
      ]
    },
    {
      "cell_type": "code",
      "source": [
        "eirbfeibfiebrf"
      ],
      "metadata": {
        "id": "iXnj5lrEWPVW"
      },
      "execution_count": null,
      "outputs": []
    },
    {
      "cell_type": "code",
      "source": [],
      "metadata": {
        "id": "eUfgqzL6y9BA"
      },
      "execution_count": null,
      "outputs": []
    },
    {
      "cell_type": "code",
      "source": [
        "def resnet_layer(\n",
        "    inputs,\n",
        "    num_filters=16,\n",
        "    kernel_size=3,\n",
        "    strides=1,\n",
        "    activation=\"relu\",\n",
        "    batch_normalization=True,\n",
        "    conv_first=True,\n",
        "):\n",
        "    conv = keras.layers.Conv2D(\n",
        "        num_filters,\n",
        "        kernel_size=kernel_size,\n",
        "        strides=strides,\n",
        "        padding=\"same\",\n",
        "        kernel_initializer=\"he_normal\",\n",
        "        kernel_regularizer=keras.regularizers.l2(1e-4),\n",
        "    )\n",
        "    x = inputs\n",
        "    if conv_first:\n",
        "        x = conv(x)\n",
        "        if batch_normalization:\n",
        "            x = keras.layers.BatchNormalization()(x)\n",
        "        if activation is not None:\n",
        "            x = keras.layers.Activation(activation)(x)\n",
        "    else:\n",
        "        if batch_normalization:\n",
        "            x = keras.layers.BatchNormalization()(x)\n",
        "        if activation is not None:\n",
        "            x = keras.layers.Activation(activation)(x)\n",
        "        x = conv(x)\n",
        "    return x\n",
        "\n",
        "\n",
        "def resnet_v20(input_shape, depth, num_classes=10):\n",
        "    if (depth - 2) % 6 != 0:\n",
        "        raise ValueError(\"depth should be 6n+2 (eg 20, 32, 44 in [a])\")\n",
        "    # Start model definition.\n",
        "    num_filters = 16\n",
        "    num_res_blocks = int((depth - 2) / 6)\n",
        "\n",
        "    inputs = keras.layers.Input(shape=input_shape)\n",
        "    x = resnet_layer(inputs=inputs)\n",
        "    # Instantiate the stack of residual units\n",
        "    for stack in range(3):\n",
        "        for res_block in range(num_res_blocks):\n",
        "            strides = 1\n",
        "            if stack > 0 and res_block == 0:  # first layer but not first stack\n",
        "                strides = 2  # downsample\n",
        "            y = resnet_layer(inputs=x, num_filters=num_filters, strides=strides)\n",
        "            y = resnet_layer(inputs=y, num_filters=num_filters, activation=None)\n",
        "            if stack > 0 and res_block == 0:  # first layer but not first stack\n",
        "                # linear projection residual shortcut connection to match\n",
        "                # changed dims\n",
        "                x = resnet_layer(\n",
        "                    inputs=x,\n",
        "                    num_filters=num_filters,\n",
        "                    kernel_size=1,\n",
        "                    strides=strides,\n",
        "                    activation=None,\n",
        "                    batch_normalization=False,\n",
        "                )\n",
        "            x = keras.layers.add([x, y])\n",
        "            x = keras.layers.Activation(\"relu\")(x)\n",
        "        num_filters *= 2\n",
        "\n",
        "    # Add classifier on top.\n",
        "    # v1 does not use BN after last shortcut connection-ReLU\n",
        "    x = keras.layers.AveragePooling2D(pool_size=8)(x)\n",
        "    y = keras.layers.Flatten()(x)\n",
        "    outputs = keras.layers.Dense(\n",
        "        num_classes, activation=\"softmax\", kernel_initializer=\"he_normal\"\n",
        "    )(y)\n",
        "\n",
        "    # Instantiate model.\n",
        "    model = keras.models.Model(inputs=inputs, outputs=outputs)\n",
        "    return model\n",
        "\n",
        "\n",
        "def training_model():\n",
        "    return resnet_v20((32, 32, 3), 20)\n",
        "\n",
        "\n",
        "initial_model = training_model()\n",
        "initial_model.save_weights(\"initial_weights.h5\")"
      ],
      "metadata": {
        "id": "Wn0A7WBP8evu"
      },
      "execution_count": null,
      "outputs": []
    },
    {
      "cell_type": "code",
      "source": [
        "model = training_model()\n",
        "model.load_weights(\"initial_weights.h5\")\n",
        "model.compile(loss=\"categorical_crossentropy\", optimizer=\"adam\", metrics=[\"accuracy\"])\n",
        "model.fit(train_ds_simple, validation_data=test_ds, epochs=15)\n",
        "\n",
        "test_loss, test_accuracy = model.evaluate(test_ds)\n",
        "print(\"Test accuracy: {:.2f}%\".format(test_accuracy * 100))"
      ],
      "metadata": {
        "colab": {
          "base_uri": "https://localhost:8080/"
        },
        "id": "VL1VuDDaPZl3",
        "outputId": "2d26ff08-6913-48f6-dca9-a6ad4458deae"
      },
      "execution_count": null,
      "outputs": [
        {
          "output_type": "stream",
          "name": "stdout",
          "text": [
            "Epoch 1/15\n",
            "1563/1563 [==============================] - 475s 302ms/step - loss: 1.4990 - accuracy: 0.5138 - val_loss: 1.3038 - val_accuracy: 0.5878\n",
            "Epoch 2/15\n",
            "1563/1563 [==============================] - 475s 304ms/step - loss: 1.0849 - accuracy: 0.6717 - val_loss: 1.1980 - val_accuracy: 0.6421\n",
            "Epoch 3/15\n",
            "1563/1563 [==============================] - 476s 304ms/step - loss: 0.9065 - accuracy: 0.7408 - val_loss: 1.1235 - val_accuracy: 0.6777\n",
            "Epoch 4/15\n",
            "1563/1563 [==============================] - 465s 297ms/step - loss: 0.8007 - accuracy: 0.7814 - val_loss: 1.2011 - val_accuracy: 0.6681\n",
            "Epoch 5/15\n",
            "1563/1563 [==============================] - 467s 298ms/step - loss: 0.7259 - accuracy: 0.8120 - val_loss: 1.1104 - val_accuracy: 0.7021\n",
            "Epoch 6/15\n",
            "1563/1563 [==============================] - 481s 308ms/step - loss: 0.6683 - accuracy: 0.8335 - val_loss: 1.3723 - val_accuracy: 0.6717\n",
            "Epoch 7/15\n",
            "1563/1563 [==============================] - 482s 309ms/step - loss: 0.6200 - accuracy: 0.8565 - val_loss: 1.5189 - val_accuracy: 0.6461\n",
            "Epoch 8/15\n",
            "1563/1563 [==============================] - 483s 309ms/step - loss: 0.5793 - accuracy: 0.8734 - val_loss: 1.3139 - val_accuracy: 0.6892\n",
            "Epoch 9/15\n",
            "1563/1563 [==============================] - 464s 297ms/step - loss: 0.5504 - accuracy: 0.8855 - val_loss: 1.3037 - val_accuracy: 0.7074\n",
            "Epoch 10/15\n",
            "1563/1563 [==============================] - 463s 296ms/step - loss: 0.5305 - accuracy: 0.8951 - val_loss: 1.2709 - val_accuracy: 0.7256\n",
            "Epoch 11/15\n",
            "1563/1563 [==============================] - 463s 296ms/step - loss: 0.5123 - accuracy: 0.9036 - val_loss: 1.4136 - val_accuracy: 0.7247\n",
            "Epoch 12/15\n",
            "1563/1563 [==============================] - 474s 303ms/step - loss: 0.5059 - accuracy: 0.9097 - val_loss: 1.5070 - val_accuracy: 0.7034\n",
            "Epoch 13/15\n",
            "1563/1563 [==============================] - 475s 304ms/step - loss: 0.4942 - accuracy: 0.9160 - val_loss: 1.3375 - val_accuracy: 0.7291\n",
            "Epoch 14/15\n",
            "1563/1563 [==============================] - 476s 305ms/step - loss: 0.4865 - accuracy: 0.9221 - val_loss: 1.4833 - val_accuracy: 0.7210\n",
            "Epoch 15/15\n",
            "1563/1563 [==============================] - 475s 304ms/step - loss: 0.4792 - accuracy: 0.9267 - val_loss: 1.5649 - val_accuracy: 0.7200\n",
            "313/313 [==============================] - 23s 73ms/step - loss: 1.5649 - accuracy: 0.7200\n",
            "Test accuracy: 72.00%\n"
          ]
        }
      ]
    },
    {
      "cell_type": "code",
      "source": [
        "print(test_loss, test_accuracy)"
      ],
      "metadata": {
        "colab": {
          "base_uri": "https://localhost:8080/"
        },
        "id": "cOHkFQAb8gnw",
        "outputId": "bc997e76-38b5-4f17-d28d-291fc768d82a"
      },
      "execution_count": null,
      "outputs": [
        {
          "output_type": "stream",
          "name": "stdout",
          "text": [
            "1.564853549003601 0.7200000286102295\n"
          ]
        }
      ]
    },
    {
      "cell_type": "code",
      "source": [
        "train_ds_cmu]"
      ],
      "metadata": {
        "colab": {
          "base_uri": "https://localhost:8080/",
          "height": 166
        },
        "id": "Obhbxs5ZAS8-",
        "outputId": "b62fb9ba-a543-463b-e609-463f8e37ab15"
      },
      "execution_count": null,
      "outputs": [
        {
          "output_type": "error",
          "ename": "TypeError",
          "evalue": "ignored",
          "traceback": [
            "\u001b[0;31m---------------------------------------------------------------------------\u001b[0m",
            "\u001b[0;31mTypeError\u001b[0m                                 Traceback (most recent call last)",
            "\u001b[0;32m<ipython-input-136-b7a8a5a3ac6b>\u001b[0m in \u001b[0;36m<module>\u001b[0;34m\u001b[0m\n\u001b[0;32m----> 1\u001b[0;31m \u001b[0mtrain_ds_cmu\u001b[0m\u001b[0;34m[\u001b[0m\u001b[0;34m:\u001b[0m\u001b[0;36m0\u001b[0m\u001b[0;34m]\u001b[0m\u001b[0;34m\u001b[0m\u001b[0;34m\u001b[0m\u001b[0m\n\u001b[0m",
            "\u001b[0;31mTypeError\u001b[0m: 'PrefetchDataset' object is not subscriptable"
          ]
        }
      ]
    }
  ]
}