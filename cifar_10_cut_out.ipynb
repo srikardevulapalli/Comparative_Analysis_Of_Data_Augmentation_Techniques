{
  "cells": [
    {
      "cell_type": "code",
      "execution_count": null,
      "metadata": {
        "id": "uhXzXjfy-ItI"
      },
      "outputs": [],
      "source": [
        "import os\n",
        "import torch\n",
        "import torchvision\n",
        "import tarfile\n",
        "import torch.nn as nn\n",
        "import numpy as np\n",
        "import torch.nn.functional as F\n",
        "from torchvision.datasets.utils import download_url\n",
        "from torchvision.datasets import ImageFolder\n",
        "from torch.utils.data import DataLoader\n",
        "from torchvision.transforms import ToTensor\n",
        "import torchvision.transforms as tt\n",
        "from torch.utils.data import random_split\n",
        "from torchvision.utils import make_grid\n",
        "import matplotlib.pyplot as plt\n",
        "import torchvision.models as models\n",
        "%matplotlib inline"
      ]
    },
    {
      "cell_type": "code",
      "execution_count": null,
      "metadata": {
        "id": "xX_IVmem54hY",
        "colab": {
          "base_uri": "https://localhost:8080/"
        },
        "outputId": "6535252e-b884-4fcb-cc05-2b13d89fecf3"
      },
      "outputs": [
        {
          "output_type": "stream",
          "name": "stdout",
          "text": [
            "Downloading data from https://www.cs.toronto.edu/~kriz/cifar-10-python.tar.gz\n",
            "170498071/170498071 [==============================] - 4s 0us/step\n"
          ]
        }
      ],
      "source": [
        "import numpy as np\n",
        "from tensorflow import keras\n",
        "from tensorflow.keras.applications.resnet50 import ResNet50\n",
        "from tensorflow.keras.datasets import cifar10\n",
        "from tensorflow.keras.preprocessing.image import ImageDataGenerator\n",
        "from tensorflow.keras.layers import *\n",
        "from tensorflow.keras.models import Model\n",
        "import tensorflow as tf\n",
        "\n",
        "# Load the CIFAR-10 dataset\n",
        "(x_train, y_train), (x_test, y_test) = cifar10.load_data()\n",
        "\n",
        "# Normalize the data\n",
        "x_train = x_train.astype(\"float32\") / 255.0\n",
        "x_test = x_test.astype(\"float32\") / 255.0\n",
        "\n",
        "# Define the Cutout data generator\n",
        "class CutoutGenerator(ImageDataGenerator):\n",
        "    def __init__(self, *args, **kwargs):\n",
        "        super().__init__(*args, **kwargs)\n",
        "\n",
        "    def cutout(self, x, mask_size=16, p=0.5):\n",
        "        # Generate a random mask\n",
        "        mask = np.ones((x.shape[0], x.shape[1], x.shape[2]))\n",
        "        mask_shape = (np.random.randint(0, x.shape[0]), np.random.randint(0, x.shape[1]), mask_size, mask_size)\n",
        "        mask[mask_shape[0]:mask_shape[0]+mask_shape[2], mask_shape[1]:mask_shape[1]+mask_shape[3], :] = 0\n",
        "        mask = tf.convert_to_tensor(mask, dtype=tf.float32)\n",
        "        # Apply the mask to the input image\n",
        "        x = x * mask\n",
        "        return x"
      ]
    },
    {
      "cell_type": "code",
      "execution_count": null,
      "metadata": {
        "colab": {
          "base_uri": "https://localhost:8080/"
        },
        "id": "rtzairug7_vc",
        "outputId": "8ebef0a9-a80e-4356-9ebc-be13355b7099"
      },
      "outputs": [
        {
          "output_type": "stream",
          "name": "stdout",
          "text": [
            "[0. 0. 0. 0. 0. 0. 0. 0. 0. 1.]\n"
          ]
        }
      ],
      "source": [
        "#Converting the integer labels to one-hot encoded format\n",
        "#This makes labels compatible with the model, and also provides an efficient way to represent the categorical data\n",
        "y_train = tf.keras.utils.to_categorical(y_train, 10)\n",
        "y_test = tf.keras.utils.to_categorical(y_test, 10)\n",
        "#Example\n",
        "print(y_train[1])"
      ]
    },
    {
      "cell_type": "code",
      "execution_count": null,
      "metadata": {
        "id": "AQCvuV8I8Clp"
      },
      "outputs": [],
      "source": [
        "#Performance optimization settings\n",
        "at = tf.data.AUTOTUNE\n",
        "#Batch size is an important hyperparameter that can affect the model's performance and training time\n",
        "batch_len = 32\n",
        "#It is used to resize the images to the same fixed size that can influence model's performance\n",
        "img_size = 32"
      ]
    },
    {
      "cell_type": "code",
      "execution_count": null,
      "metadata": {
        "id": "9Z0KUKC38HUe"
      },
      "outputs": [],
      "source": [
        "def preprocess_image(image, label):\n",
        "   #By resizing, the model is able to process all the images consistently and not be affected by the original size of the images. \n",
        "    image = tf.image.resize(image, (img_size, img_size))\n",
        "    #Normalizing image pixel values to a small range(0,1) improves training stability.\n",
        "    image = tf.image.convert_image_dtype(image, tf.float32) / 255.0\n",
        "    return image, label"
      ]
    },
    {
      "cell_type": "code",
      "execution_count": null,
      "metadata": {
        "id": "sjjo7Pus759S"
      },
      "outputs": [],
      "source": [
        "#train_ds_a & train_ds_b are created by shuffling the training data (x_train, y_train) and applying the preprocess_image function to each example. \n",
        "#Shuffling the data is important to improve the model's generalization.\n",
        "train_ds_a_shuffle = (tf.data.Dataset.from_tensor_slices((x_train, y_train)).shuffle(1024))\n",
        "train_ds_a=train_ds_a_shuffle.map(preprocess_image, num_parallel_calls=at)\n",
        "\n",
        "train_ds_b_shuffle = (tf.data.Dataset.from_tensor_slices((x_train, y_train)).shuffle(1024))\n",
        "train_ds_b=train_ds_b_shuffle.map(preprocess_image, num_parallel_calls=at)\n",
        "\n",
        "#Loading (x_train, y_train) into a TensorFlow Dataset object.\n",
        "train_ds_simple = tf.data.Dataset.from_tensor_slices((x_train, y_train))\n",
        "\n",
        "#Loading(x_test, y_test) into a TensorFlow Dataset object.\n",
        "test_ds = tf.data.Dataset.from_tensor_slices((x_test, y_test))\n",
        "\n",
        "#prefetch() is a method in TensorFlow Dataset that allows the pipeline to asynchronously fetch the next batch of data, while the current batch is being processed. \n",
        "train_ds_simple = (  \n",
        "    train_ds_simple.map(preprocess_image, num_parallel_calls=at)\n",
        "    .batch(batch_len)\n",
        "    .prefetch(at)\n",
        ")\n",
        "\n",
        "# Combine two shuffled datasets from the same training data.\n",
        "train_ds = tf.data.Dataset.zip((train_ds_a, train_ds_b))\n",
        "test_ds = (test_ds.map(preprocess_image, num_parallel_calls=at).batch(batch_len)\n",
        "    .prefetch(at))"
      ]
    },
    {
      "cell_type": "code",
      "execution_count": null,
      "metadata": {
        "id": "jExE-sEg8b-w"
      },
      "outputs": [],
      "source": [
        "def cutout(image, label, p=0.5, cutout_size=16):\n",
        "    if np.random.random() > p:\n",
        "        return image, label\n",
        "    h, w, _ = image.shape\n",
        "    x = np.random.randint(w)\n",
        "    y = np.random.randint(h)\n",
        "    x1 = np.clip(x - cutout_size // 2, 0, w)\n",
        "    y1 = np.clip(y - cutout_size // 2, 0, h)\n",
        "    x2 = np.clip(x + cutout_size // 2, 0, w)\n",
        "    y2 = np.clip(y + cutout_size // 2, 0, h)\n",
        "    image[y1:y2, x1:x2] = 0\n",
        "    return image, label\n"
      ]
    },
    {
      "cell_type": "code",
      "execution_count": null,
      "metadata": {
        "id": "vj5v3ncC9b36"
      },
      "outputs": [],
      "source": [
        "def cutout(image, label):\n",
        "    image, label = image\n",
        "    h, w, _ = image.shape\n",
        "    cut_size = int(h * 0.1)\n",
        "    "
      ]
    },
    {
      "cell_type": "code",
      "execution_count": null,
      "metadata": {
        "id": "e2cOS02C_5uM"
      },
      "outputs": [],
      "source": [
        "def cutout(image, size=12, n_squares=1):\n",
        "    h, w, channels = image.shape\n",
        "    new_image = image\n",
        "    for _ in range(n_squares):\n",
        "        y = np.random.randint(h)\n",
        "        x = np.random.randint(w)\n",
        "        y1 = np.clip(y - size // 2, 0, h)\n",
        "        y2 = np.clip(y + size // 2, 0, h)\n",
        "        x1 = np.clip(x - size // 2, 0, w)\n",
        "        x2 = np.clip(x + size // 2, 0, w)\n",
        "        new_image[y1:y2,x1:x2,:] = 0\n",
        "    return new_image"
      ]
    },
    {
      "cell_type": "code",
      "execution_count": null,
      "metadata": {
        "id": "OkWMVQ5oJLhg"
      },
      "outputs": [],
      "source": [
        "@tf.function\n",
        "def cutout(image,label, size=12, n_squares=1):\n",
        "    h, w, channels = image[0].shape \n",
        "    new_image = image[0]\n",
        "    for _ in range(n_squares):\n",
        "        y = tf.random.uniform((1,), minval=0, maxval=h, dtype=tf.int32)\n",
        "        x = tf.random.uniform((1,), minval=0, maxval=w, dtype=tf.int32)\n",
        "        y1 = tf.clip_by_value(y - size // 2, 0, h)\n",
        "        y2 = tf.clip_by_value(y + size // 2, 0, h)\n",
        "        x1 = tf.clip_by_value(x - size // 2, 0, w)\n",
        "        x2 = tf.clip_by_value(x + size // 2, 0, w)\n",
        "        new_image = tf.tensor_scatter_nd_update(new_image, [[y1, x1, y2, x2]], tf.zeros((size, size, channels)))\n",
        "    return new_image\n"
      ]
    },
    {
      "cell_type": "code",
      "execution_count": null,
      "metadata": {
        "id": "-gJmn5pL-A7g"
      },
      "outputs": [],
      "source": [
        "class_names = ['airplane', 'automobile', 'bird', 'cat', 'deer', \n",
        "          'dog', 'frog', 'horse', 'ship', 'truck']"
      ]
    },
    {
      "cell_type": "code",
      "execution_count": null,
      "metadata": {
        "colab": {
          "base_uri": "https://localhost:8080/"
        },
        "id": "G3Gb7SzuATaz",
        "outputId": "79598855-2c28-405c-c254-1c757c10d32e"
      },
      "outputs": [
        {
          "data": {
            "text/plain": [
              "<ZipDataset element_spec=((TensorSpec(shape=(32, 32, 3), dtype=tf.float32, name=None), TensorSpec(shape=(10,), dtype=tf.float32, name=None)), (TensorSpec(shape=(32, 32, 3), dtype=tf.float32, name=None), TensorSpec(shape=(10,), dtype=tf.float32, name=None)))>"
            ]
          },
          "execution_count": 100,
          "metadata": {},
          "output_type": "execute_result"
        }
      ],
      "source": [
        "train_ds"
      ]
    },
    {
      "cell_type": "code",
      "execution_count": null,
      "metadata": {
        "colab": {
          "base_uri": "https://localhost:8080/",
          "height": 132
        },
        "id": "kTcTD1GAFXeI",
        "outputId": "33293fa7-ad01-492b-a3be-0b6d36dfad38"
      },
      "outputs": [
        {
          "output_type": "stream",
          "name": "stdout",
          "text": [
            "Images with cutout:\n"
          ]
        },
        {
          "output_type": "display_data",
          "data": {
            "text/plain": [
              "<Figure size 432x288 with 2 Axes>"
            ],
            "image/png": "[encoded data removed]"
          },
          "metadata": {
            "needs_background": "light"
          }
        }
      ],
      "source": [
        "print(\"Images with cutout:\")\n",
        "for i in range(2):\n",
        "    plt.subplot(330 + 1 + i)\n",
        "    plt.imshow(cutout(x_train[i]))\n",
        "plt.show()"
      ]
    },
    {
      "cell_type": "code",
      "execution_count": null,
      "metadata": {
        "id": "-BuJYDPHH1qi"
      },
      "outputs": [],
      "source": [
        "from tensorflow.keras.preprocessing.image import ImageDataGenerator\n",
        "\n",
        "class CutoutGenerator(ImageDataGenerator):\n",
        "    def __init__(self, cutout_size=12, cutout_n_squares=1, *args, **kwargs):\n",
        "        super().__init__(*args, **kwargs)\n",
        "        self.cutout_size = cutout_size\n",
        "        self.cutout_n_squares = cutout_n_squares\n",
        "    \n",
        "    def cutout(self, x, y):\n",
        "        x = cutout(x, size=self.cutout_size, n_squares=self.cutout_n_squares)\n",
        "        return x, y"
      ]
    },
    {
      "cell_type": "code",
      "execution_count": null,
      "metadata": {
        "id": "L6pJQF8g7SjG"
      },
      "outputs": [],
      "source": [
        "def resnet_layer(\n",
        "    inputs,\n",
        "    num_filters=16,\n",
        "    kernel_size=3,\n",
        "    strides=1,\n",
        "    activation=\"relu\",\n",
        "    batch_normalization=True,\n",
        "    conv_first=True,\n",
        "):\n",
        "    conv = keras.layers.Conv2D(\n",
        "        num_filters,\n",
        "        kernel_size=kernel_size,\n",
        "        strides=strides,\n",
        "        padding=\"same\",\n",
        "        kernel_initializer=\"he_normal\",\n",
        "        kernel_regularizer=keras.regularizers.l2(1e-4),\n",
        "    )\n",
        "    x = inputs\n",
        "    if conv_first:\n",
        "        x = conv(x)\n",
        "        if batch_normalization:\n",
        "            x = keras.layers.BatchNormalization()(x)\n",
        "        if activation is not None:\n",
        "            x = keras.layers.Activation(activation)(x)\n",
        "    else:\n",
        "        if batch_normalization:\n",
        "            x = keras.layers.BatchNormalization()(x)\n",
        "        if activation is not None:\n",
        "            x = keras.layers.Activation(activation)(x)\n",
        "        x = conv(x)\n",
        "    return x\n",
        "\n",
        "\n",
        "def resnet_v20(input_shape, depth, num_classes=10):\n",
        "    if (depth - 2) % 6 != 0:\n",
        "        raise ValueError(\"depth should be 6n+2 (eg 20, 32, 44 in [a])\")\n",
        "    # Start model definition.\n",
        "    num_filters = 16\n",
        "    num_res_blocks = int((depth - 2) / 6)\n",
        "\n",
        "    inputs = keras.layers.Input(shape=input_shape)\n",
        "    x = resnet_layer(inputs=inputs)\n",
        "    # Instantiate the stack of residual units\n",
        "    for stack in range(3):\n",
        "        for res_block in range(num_res_blocks):\n",
        "            strides = 1\n",
        "            if stack > 0 and res_block == 0:  # first layer but not first stack\n",
        "                strides = 2  # downsample\n",
        "            y = resnet_layer(inputs=x, num_filters=num_filters, strides=strides)\n",
        "            y = resnet_layer(inputs=y, num_filters=num_filters, activation=None)\n",
        "            if stack > 0 and res_block == 0:  # first layer but not first stack\n",
        "                # linear projection residual shortcut connection to match\n",
        "                # changed dims\n",
        "                x = resnet_layer(\n",
        "                    inputs=x,\n",
        "                    num_filters=num_filters,\n",
        "                    kernel_size=1,\n",
        "                    strides=strides,\n",
        "                    activation=None,\n",
        "                    batch_normalization=False,\n",
        "                )\n",
        "            x = keras.layers.add([x, y])\n",
        "            x = keras.layers.Activation(\"relu\")(x)\n",
        "        num_filters *= 2\n",
        "\n",
        "    # Add classifier on top.\n",
        "    # v1 does not use BN after last shortcut connection-ReLU\n",
        "    x = keras.layers.AveragePooling2D(pool_size=8)(x)\n",
        "    y = keras.layers.Flatten()(x)\n",
        "    outputs = keras.layers.Dense(\n",
        "        num_classes, activation=\"softmax\", kernel_initializer=\"he_normal\"\n",
        "    )(y)\n",
        "\n",
        "    # Instantiate model.\n",
        "    model = keras.models.Model(inputs=inputs, outputs=outputs)\n",
        "    return model\n",
        "\n",
        "\n",
        "def training_model():\n",
        "    return resnet_v20((32, 32, 3), 20)\n",
        "\n",
        "\n",
        "initial_model = training_model()\n",
        "initial_model.save_weights(\"initial_weights.h5\")"
      ]
    },
    {
      "cell_type": "code",
      "execution_count": null,
      "metadata": {
        "colab": {
          "base_uri": "https://localhost:8080/"
        },
        "id": "D0NGyTsX7YSi",
        "outputId": "32195cd3-8c77-468e-b732-8291af67f83e"
      },
      "outputs": [
        {
          "output_type": "stream",
          "name": "stdout",
          "text": [
            "Epoch 1/15\n",
            "196/196 [==============================] - 654s 3s/step - loss: 1.7009 - accuracy: 0.4435 - val_loss: 2.4899 - val_accuracy: 0.2649\n",
            "Epoch 2/15\n",
            "196/196 [==============================] - 639s 3s/step - loss: 1.2948 - accuracy: 0.5900 - val_loss: 1.8803 - val_accuracy: 0.4372\n",
            "Epoch 3/15\n",
            "196/196 [==============================] - 644s 3s/step - loss: 1.1097 - accuracy: 0.6564 - val_loss: 1.5623 - val_accuracy: 0.5401\n",
            "Epoch 4/15\n",
            "196/196 [==============================] - 640s 3s/step - loss: 0.9779 - accuracy: 0.7067 - val_loss: 1.5921 - val_accuracy: 0.5578\n",
            "Epoch 5/15\n",
            "196/196 [==============================] - 657s 3s/step - loss: 0.8749 - accuracy: 0.7425 - val_loss: 1.3087 - val_accuracy: 0.6084\n",
            "Epoch 6/15\n",
            "196/196 [==============================] - 654s 3s/step - loss: 0.7872 - accuracy: 0.7749 - val_loss: 1.1410 - val_accuracy: 0.6624\n",
            "Epoch 7/15\n",
            "196/196 [==============================] - 648s 3s/step - loss: 0.7129 - accuracy: 0.8026 - val_loss: 1.3707 - val_accuracy: 0.6271\n",
            "Epoch 8/15\n",
            "196/196 [==============================] - 651s 3s/step - loss: 0.6443 - accuracy: 0.8273 - val_loss: 1.1669 - val_accuracy: 0.6718\n",
            "Epoch 9/15\n",
            "196/196 [==============================] - 656s 3s/step - loss: 0.5885 - accuracy: 0.8478 - val_loss: 1.1873 - val_accuracy: 0.6754\n",
            "Epoch 10/15\n",
            "196/196 [==============================] - 657s 3s/step - loss: 0.5349 - accuracy: 0.8678 - val_loss: 1.3204 - val_accuracy: 0.6614\n",
            "Epoch 11/15\n",
            "196/196 [==============================] - 657s 3s/step - loss: 0.4827 - accuracy: 0.8862 - val_loss: 1.4155 - val_accuracy: 0.6486\n",
            "Epoch 12/15\n",
            "196/196 [==============================] - 657s 3s/step - loss: 0.4394 - accuracy: 0.9025 - val_loss: 1.3813 - val_accuracy: 0.6408\n",
            "Epoch 13/15\n",
            "196/196 [==============================] - 655s 3s/step - loss: 0.4052 - accuracy: 0.9144 - val_loss: 1.3101 - val_accuracy: 0.6871\n",
            "Epoch 14/15\n",
            "196/196 [==============================] - 657s 3s/step - loss: 0.3757 - accuracy: 0.9249 - val_loss: 1.3922 - val_accuracy: 0.6904\n",
            "Epoch 15/15\n",
            "196/196 [==============================] - 656s 3s/step - loss: 0.3417 - accuracy: 0.9371 - val_loss: 1.5547 - val_accuracy: 0.6308\n",
            "313/313 [==============================] - 33s 105ms/step - loss: 7.5505 - accuracy: 0.1000\n",
            "Test accuracy: 10.00%\n"
          ]
        }
      ],
      "source": [
        "# Instantiate the Cutout generator\n",
        "model = training_model()\n",
        "model.load_weights(\"initial_weights.h5\")\n",
        "model.compile(loss=\"categorical_crossentropy\", optimizer=\"adam\", metrics=[\"accuracy\"])\n",
        "cutout_gen = CutoutGenerator(cutout_size=12, cutout_n_squares=1)\n",
        "cutout_gen.fit(x_train)\n",
        "model.fit(cutout_gen.flow(x_train, y_train, batch_size=256), epochs=15, validation_data=(x_test, y_test))\n",
        "test_loss, test_accuracy = model.evaluate(test_ds)\n",
        "print(\"Test accuracy: {:.2f}%\".format(test_accuracy * 100))"
      ]
    },
    {
      "cell_type": "code",
      "execution_count": null,
      "metadata": {
        "id": "-eGaRD387Dle"
      },
      "outputs": [],
      "source": [
        "\n",
        "# Instantiate the Cutout generator\n",
        "cutout_gen = CutoutGenerator()\n",
        "\n",
        "# Create the ResNet model\n",
        "resnet = ResNet50(weights=None, input_shape=(32, 32, 3), classes=10)\n",
        "\n",
        "# Compile the model\n",
        "resnet.compile(optimizer='adam', loss='categorical_crossentropy', metrics=['accuracy'])\n",
        "\n",
        "# Fit the model on the Cutout generator\n",
        "resnet.fit(cutout_gen.flow(x_train, y_train, batch_size=32), epochs=15, validation_data=(x_test, y_test))"
      ]
    },
    {
      "cell_type": "code",
      "execution_count": null,
      "metadata": {
        "colab": {
          "base_uri": "https://localhost:8080/",
          "height": 184
        },
        "id": "_HZ-tq8_6NUC",
        "outputId": "15664dea-bb6c-4fe6-f90c-9591f875c74f"
      },
      "outputs": [
        {
          "ename": "NameError",
          "evalue": "ignored",
          "output_type": "error",
          "traceback": [
            "\u001b[0;31m---------------------------------------------------------------------------\u001b[0m",
            "\u001b[0;31mNameError\u001b[0m                                 Traceback (most recent call last)",
            "\u001b[0;32m<ipython-input-1-ec68f22af358>\u001b[0m in \u001b[0;36m<module>\u001b[0;34m\u001b[0m\n\u001b[0;32m----> 1\u001b[0;31m \u001b[0mtest_loss\u001b[0m\u001b[0;34m,\u001b[0m \u001b[0mtest_accuracy\u001b[0m \u001b[0;34m=\u001b[0m \u001b[0mmodel\u001b[0m\u001b[0;34m.\u001b[0m\u001b[0mevaluate\u001b[0m\u001b[0;34m(\u001b[0m\u001b[0mx_test\u001b[0m\u001b[0;34m,\u001b[0m \u001b[0my_test\u001b[0m\u001b[0;34m)\u001b[0m\u001b[0;34m\u001b[0m\u001b[0;34m\u001b[0m\u001b[0m\n\u001b[0m\u001b[1;32m      2\u001b[0m \u001b[0mprint\u001b[0m\u001b[0;34m(\u001b[0m\u001b[0;34m\"Test accuracy: {:.2f}%\"\u001b[0m\u001b[0;34m.\u001b[0m\u001b[0mformat\u001b[0m\u001b[0;34m(\u001b[0m\u001b[0mtest_accuracy\u001b[0m \u001b[0;34m*\u001b[0m \u001b[0;36m100\u001b[0m\u001b[0;34m)\u001b[0m\u001b[0;34m)\u001b[0m\u001b[0;34m\u001b[0m\u001b[0;34m\u001b[0m\u001b[0m\n",
            "\u001b[0;31mNameError\u001b[0m: name 'model' is not defined"
          ]
        }
      ],
      "source": [
        "test_loss, test_accuracy = model.evaluate(x_test, y_test)\n",
        "print(\"Test accuracy: {:.2f}%\".format(test_accuracy * 100))"
      ]
    }
  ],
  "metadata": {
    "colab": {
      "provenance": []
    },
    "kernelspec": {
      "display_name": "Python 3",
      "name": "python3"
    },
    "language_info": {
      "name": "python"
    }
  },
  "nbformat": 4,
  "nbformat_minor": 0
}